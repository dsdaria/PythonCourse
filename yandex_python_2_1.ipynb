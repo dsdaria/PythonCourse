{
  "nbformat": 4,
  "nbformat_minor": 0,
  "metadata": {
    "colab": {
      "provenance": []
    },
    "kernelspec": {
      "name": "python3",
      "display_name": "Python 3"
    },
    "language_info": {
      "name": "python"
    }
  },
  "cells": [
    {
      "cell_type": "markdown",
      "source": [
        "**2.1.\n",
        "Ввод и вывод данных. Операции с числами, строками. Форматирование**"
      ],
      "metadata": {
        "id": "ERSllmecywNA"
      }
    },
    {
      "cell_type": "markdown",
      "source": [
        "**A. Привет, Яндекс!**"
      ],
      "metadata": {
        "id": "mOIZuNGIyxUL"
      }
    },
    {
      "cell_type": "code",
      "execution_count": null,
      "metadata": {
        "id": "jstd-5E7yrDd"
      },
      "outputs": [],
      "source": [
        "print(\"Привет, Яндекс!\")"
      ]
    },
    {
      "cell_type": "markdown",
      "source": [
        "**B. Привет, всем!**"
      ],
      "metadata": {
        "id": "8ITdxx-wy1b3"
      }
    },
    {
      "cell_type": "code",
      "execution_count": null,
      "metadata": {
        "id": "wNfr-So9y1b3"
      },
      "outputs": [],
      "source": [
        "print(\"Как Вас зовут?\")\n",
        "name = str(input())\n",
        "print(\"Привет,\", name)"
      ]
    },
    {
      "cell_type": "markdown",
      "source": [
        "**C. Излишняя автоматизация**"
      ],
      "metadata": {
        "id": "ag0C89zPy8GA"
      }
    },
    {
      "cell_type": "code",
      "source": [
        "inp = str(input())\n",
        "print(inp)\n",
        "print(inp)\n",
        "print(inp)"
      ],
      "metadata": {
        "id": "xF70_qHJy-gB"
      },
      "execution_count": null,
      "outputs": []
    },
    {
      "cell_type": "markdown",
      "source": [
        "**D. Сдача**"
      ],
      "metadata": {
        "id": "oZW4TEIUy_tW"
      }
    },
    {
      "cell_type": "code",
      "source": [
        "inp = int(input())\n",
        "print(int(inp - 2.5 * 38))"
      ],
      "metadata": {
        "id": "nt7o9OgFzBmj"
      },
      "execution_count": null,
      "outputs": []
    },
    {
      "cell_type": "markdown",
      "source": [
        "**E. Магазин**"
      ],
      "metadata": {
        "id": "JJovsVy5zCxZ"
      }
    },
    {
      "cell_type": "code",
      "source": [
        "price = int(input())\n",
        "weight = int(input())\n",
        "money = int(input())\n",
        "\n",
        "print(int(money - price * weight))"
      ],
      "metadata": {
        "id": "wPlY1Jq1zGpi"
      },
      "execution_count": null,
      "outputs": []
    },
    {
      "cell_type": "markdown",
      "source": [
        "**F. Чек**"
      ],
      "metadata": {
        "id": "CCg6m0ZIzHXd"
      }
    },
    {
      "cell_type": "code",
      "source": [
        "name = str(input())\n",
        "price = int(input())\n",
        "weight = int(input())\n",
        "money = int(input())\n",
        "\n",
        "\n",
        "print(\"Чек\")\n",
        "print(str(name) + ' - ' + str(weight) + 'кг - ' + str(price) + 'руб/кг')\n",
        "print(\"Итого: \" + str(price * weight) + \"руб\")\n",
        "print(\"Внесено: \" + str(money) + \"руб\")\n",
        "print(\"Сдача: \" + str(money - price * weight) + \"руб\")"
      ],
      "metadata": {
        "id": "lrkoYmgUzLXj"
      },
      "execution_count": null,
      "outputs": []
    },
    {
      "cell_type": "markdown",
      "source": [
        "**G. Делу — время, потехе — час**"
      ],
      "metadata": {
        "id": "iwlpyACxzMcy"
      }
    },
    {
      "cell_type": "code",
      "source": [
        "n = int(input())\n",
        "print(\"Купи слона!\\n\" * n)"
      ],
      "metadata": {
        "id": "pHsccVOtzO68"
      },
      "execution_count": null,
      "outputs": []
    },
    {
      "cell_type": "markdown",
      "source": [
        "**H. Наказание**"
      ],
      "metadata": {
        "id": "bLkUoGUFzVz0"
      }
    },
    {
      "cell_type": "code",
      "source": [
        "n = int(input())\n",
        "inp = str(input())\n",
        "print(((\"Я больше никогда не буду писать \" + str('\"' + inp) + str('\"!') + '\\n')) * n)"
      ],
      "metadata": {
        "id": "lEUE9E3jzWym"
      },
      "execution_count": null,
      "outputs": []
    },
    {
      "cell_type": "markdown",
      "source": [
        "**I. Деловая колбаса**"
      ],
      "metadata": {
        "id": "uiSVFb4hzcuy"
      }
    },
    {
      "cell_type": "code",
      "source": [
        "n = int(input())\n",
        "m = int(input())\n",
        "print(n * m // 2)"
      ],
      "metadata": {
        "id": "yFdIVkFwzetJ"
      },
      "execution_count": null,
      "outputs": []
    },
    {
      "cell_type": "markdown",
      "source": [
        "**J. Детский сад — штаны на лямках**"
      ],
      "metadata": {
        "id": "lZY_WBuRziuZ"
      }
    },
    {
      "cell_type": "code",
      "source": [
        "name = str(input())\n",
        "number = str(input())\n",
        "\n",
        "print(\"Группа №\" + str(number[0]) + \".\")\n",
        "print(str(number[2]) + \". \" + name + \".\")\n",
        "print(\"Шкафчик: \" + number + \".\")\n",
        "print(\"Кроватка: \" + number[1] + \".\")"
      ],
      "metadata": {
        "id": "SEx2nipWzlns"
      },
      "execution_count": null,
      "outputs": []
    },
    {
      "cell_type": "markdown",
      "source": [
        "**K. Автоматизация игры**"
      ],
      "metadata": {
        "id": "ZPYgcklSznAn"
      }
    },
    {
      "cell_type": "code",
      "source": [
        "num = str(input())\n",
        "ret_num = str(num[1]) + str(num[0]) + str(num[3]) + str(num[2])\n",
        "print(ret_num)"
      ],
      "metadata": {
        "id": "5Rykp7rIzo4o"
      },
      "execution_count": null,
      "outputs": []
    },
    {
      "cell_type": "markdown",
      "source": [
        "**L. Интересное сложение**"
      ],
      "metadata": {
        "id": "PQCTnw6DzpzG"
      }
    },
    {
      "cell_type": "code",
      "source": [
        "num1 = str(input())\n",
        "num2 = str(input())\n",
        "\n",
        "num1_format = f\"{num1:0>4}\"\n",
        "num2_format = f\"{num2:0>4}\"\n",
        "\n",
        "dig1 = (int(num1_format[-1]) + int(num2_format[-1])) % 10\n",
        "dig2 = (int(num1_format[-2]) + int(num2_format[-2])) % 10\n",
        "dig3 = (int(num1_format[-3]) + int(num2_format[-3])) % 10\n",
        "dig4 = (int(num1_format[-4]) + int(num2_format[-4])) % 10\n",
        "\n",
        "print(int(str(dig4) + str(dig3) + str(dig2) + str(dig1)))"
      ],
      "metadata": {
        "id": "bQYJ7tMazr0p"
      },
      "execution_count": null,
      "outputs": []
    },
    {
      "cell_type": "markdown",
      "source": [
        "**M. Дед Мороз и конфеты**"
      ],
      "metadata": {
        "id": "u2lhFMknztFD"
      }
    },
    {
      "cell_type": "code",
      "source": [
        "num_child = int(input())\n",
        "num_choco = int(input())\n",
        "\n",
        "print(num_choco // num_child)\n",
        "print(num_choco - (num_choco // num_child) * num_child)"
      ],
      "metadata": {
        "id": "O0IOeZquzuD8"
      },
      "execution_count": null,
      "outputs": []
    },
    {
      "cell_type": "markdown",
      "source": [
        "**N. Шарики и ручки**"
      ],
      "metadata": {
        "id": "xaT8BsMrzyUC"
      }
    },
    {
      "cell_type": "code",
      "source": [
        "red = int(input())\n",
        "green = int(input())\n",
        "blue = int(input())\n",
        "\n",
        "print(red + blue + 1)"
      ],
      "metadata": {
        "id": "tn2mxHfkz0nb"
      },
      "execution_count": null,
      "outputs": []
    },
    {
      "cell_type": "markdown",
      "source": [
        "**O. В ожидании доставки**"
      ],
      "metadata": {
        "id": "-BPgcd7gz1ie"
      }
    },
    {
      "cell_type": "code",
      "source": [
        "N = int(input()) * 60\n",
        "M = int(input())\n",
        "T = int(input())\n",
        "\n",
        "hours = (N + M + T) // 60 % 24\n",
        "mins = (N + M + T) % 60\n",
        "\n",
        "print(f'{hours:02}:{mins:02}')"
      ],
      "metadata": {
        "id": "bw5QJeaDz3os"
      },
      "execution_count": null,
      "outputs": []
    },
    {
      "cell_type": "markdown",
      "source": [
        "**P. Доставка**"
      ],
      "metadata": {
        "id": "2FCIj0CPz4r8"
      }
    },
    {
      "cell_type": "code",
      "source": [
        "A = int(input())\n",
        "B = int(input())\n",
        "C = int(input())\n",
        "\n",
        "dist = B - A\n",
        "time = round(dist / C, 2)\n",
        "\n",
        "print(time)"
      ],
      "metadata": {
        "id": "dtXDEYQHz6x9"
      },
      "execution_count": null,
      "outputs": []
    },
    {
      "cell_type": "markdown",
      "source": [
        "**Q. Ошибка кассового аппарата**"
      ],
      "metadata": {
        "id": "ImXW7OkEz8Q5"
      }
    },
    {
      "cell_type": "code",
      "source": [
        "total = int(input())\n",
        "purchase = str(input())\n",
        "purchase_dec = int(purchase, 2)\n",
        "print(purchase_dec + total)"
      ],
      "metadata": {
        "id": "w_t3-Szjz_dt"
      },
      "execution_count": null,
      "outputs": []
    },
    {
      "cell_type": "markdown",
      "source": [
        "**R. Сдача 10**"
      ],
      "metadata": {
        "id": "YHPL2XhX0AhO"
      }
    },
    {
      "cell_type": "code",
      "source": [
        "price = str(input())\n",
        "denomination = int(input())\n",
        "price_dec = int(price, 2)\n",
        "print(denomination - price_dec)"
      ],
      "metadata": {
        "id": "W3GKIHhj0C6t"
      },
      "execution_count": null,
      "outputs": []
    },
    {
      "cell_type": "markdown",
      "source": [
        "**S. Украшение чека**"
      ],
      "metadata": {
        "id": "Vs7AfrP90DMS"
      }
    },
    {
      "cell_type": "code",
      "source": [
        "product = input()\n",
        "price = int(input())\n",
        "total = int(input())\n",
        "money = int(input())\n",
        "\n",
        "print(\"================Чек================\")\n",
        "print(f\"Товар:{' ' * (29 - len(product))}{product}\")\n",
        "print(f\"Цена:{' ' * (19 - len(str(price)) - len(str(total)))}{total}кг * {price}руб/кг\")\n",
        "print(f\"Итого:{' ' * (26 - len(str(total * price)))}{total * price}руб\")\n",
        "print(f\"Внесено:{' ' * (24 - len(str(money)))}{money}руб\")\n",
        "print(f\"Сдача:{' ' * (26 - len(str(money - total * price)))}{money - total * price}руб\")\n",
        "print(\"===================================\")"
      ],
      "metadata": {
        "id": "wXaogOcq0GGD"
      },
      "execution_count": null,
      "outputs": []
    },
    {
      "cell_type": "markdown",
      "source": [
        "**T. Мухи отдельно, котлеты отдельно**"
      ],
      "metadata": {
        "id": "hdw_cP_C0JTQ"
      }
    },
    {
      "cell_type": "code",
      "source": [
        "n = int(input())\n",
        "m = int(input())\n",
        "k1 = int(input())\n",
        "k2 = int(input())\n",
        "\n",
        "p1 = int((m * N - k2 * n) / (k1 - k2))\n",
        "print(p1, int(n - p1))"
      ],
      "metadata": {
        "id": "Fe2qqXux0Kp-"
      },
      "execution_count": null,
      "outputs": []
    }
  ]
}