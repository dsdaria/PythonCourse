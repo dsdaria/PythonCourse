{
  "nbformat": 4,
  "nbformat_minor": 0,
  "metadata": {
    "colab": {
      "provenance": []
    },
    "kernelspec": {
      "name": "python3",
      "display_name": "Python 3"
    },
    "language_info": {
      "name": "python"
    }
  },
  "cells": [
    {
      "cell_type": "markdown",
      "source": [
        "**2.2.\n",
        "Условный оператор**"
      ],
      "metadata": {
        "id": "ERSllmecywNA"
      }
    },
    {
      "cell_type": "markdown",
      "source": [
        "**A. Просто здравствуй, просто как дела**"
      ],
      "metadata": {
        "id": "mOIZuNGIyxUL"
      }
    },
    {
      "cell_type": "code",
      "execution_count": null,
      "metadata": {
        "id": "jstd-5E7yrDd"
      },
      "outputs": [],
      "source": [
        "name = str(input(\"Как Вас зовут?\\n\"))\n",
        "print(f\"Здравствуйте, {name}!\")\n",
        "reaction = str(input(\"Как дела?\\n\"))\n",
        "\n",
        "if reaction == \"хорошо\":\n",
        "    print(\"Я за вас рада!\")\n",
        "if reaction == \"плохо\":\n",
        "    print(\"Всё наладится!\")"
      ]
    },
    {
      "cell_type": "markdown",
      "source": [
        "**B. Кто быстрее?**"
      ],
      "metadata": {
        "id": "8ITdxx-wy1b3"
      }
    },
    {
      "cell_type": "code",
      "execution_count": null,
      "metadata": {
        "id": "wNfr-So9y1b3"
      },
      "outputs": [],
      "source": [
        "vP = float(input())\n",
        "vV = float(input())\n",
        "if vV > vP:\n",
        "    print(\"Вася\")\n",
        "else:\n",
        "    print(\"Петя\")"
      ]
    },
    {
      "cell_type": "markdown",
      "source": [
        "**C. Кто быстрее на этот раз?**"
      ],
      "metadata": {
        "id": "ag0C89zPy8GA"
      }
    },
    {
      "cell_type": "code",
      "source": [
        "vP = int(input())\n",
        "vV = int(input())\n",
        "vT = int(input())\n",
        "\n",
        "tP = 43872 / vP\n",
        "tV = 43872 / vV\n",
        "tT = 43872 / vT\n",
        "\n",
        "if (tP < tV) and (tP < tT):\n",
        "    print(\"Петя\")\n",
        "if (tV < tP) and (tV < tT):\n",
        "    print(\"Вася\")\n",
        "if (tT < tP) and (tT < tV):\n",
        "    print(\"Толя\")"
      ],
      "metadata": {
        "id": "xF70_qHJy-gB"
      },
      "execution_count": null,
      "outputs": []
    },
    {
      "cell_type": "markdown",
      "source": [
        "**D. Список победителей**"
      ],
      "metadata": {
        "id": "oZW4TEIUy_tW"
      }
    },
    {
      "cell_type": "code",
      "source": [
        "vP = int(input())\n",
        "vV = int(input())\n",
        "vT = int(input())\n",
        "\n",
        "tP = 43872 / vP\n",
        "tV = 43872 / vV\n",
        "tT = 43872 / vT\n",
        "\n",
        "if (tP < tV) and (tP < tT):\n",
        "    if (tT < tV):\n",
        "        print(\"1. Петя\")\n",
        "        print(\"2. Толя\")\n",
        "        print(\"3. Вася\")\n",
        "    else:\n",
        "        print(\"1. Петя\")\n",
        "        print(\"2. Вася\")\n",
        "        print(\"3. Толя\")\n",
        "elif (tV < tP) and (tV < tT):\n",
        "    if (tP < tT):\n",
        "        print(\"1. Вася\")\n",
        "        print(\"2. Петя\")\n",
        "        print(\"3. Толя\")\n",
        "    else:\n",
        "        print(\"1. Вася\")\n",
        "        print(\"2. Толя\")\n",
        "        print(\"3. Петя\")\n",
        "elif (tT < tP) and (tT < tV):\n",
        "    if (tP < tV):\n",
        "        print(\"1. Толя\")\n",
        "        print(\"2. Петя\")\n",
        "        print(\"3. Вася\")\n",
        "    else:\n",
        "        print(\"1. Толя\")\n",
        "        print(\"2. Вася\")\n",
        "        print(\"3. Петя\")"
      ],
      "metadata": {
        "id": "nt7o9OgFzBmj"
      },
      "execution_count": null,
      "outputs": []
    },
    {
      "cell_type": "markdown",
      "source": [
        "**E. Яблоки**"
      ],
      "metadata": {
        "id": "JJovsVy5zCxZ"
      }
    },
    {
      "cell_type": "code",
      "source": [
        "Petr = 6\n",
        "Vasy = 12\n",
        "Petr += int(input())\n",
        "Vasy += int(input())\n",
        "\n",
        "if Petr > Vasy:\n",
        "    print(\"Петя\")\n",
        "else:\n",
        "    print(\"Вася\")"
      ],
      "metadata": {
        "id": "wPlY1Jq1zGpi"
      },
      "execution_count": null,
      "outputs": []
    },
    {
      "cell_type": "markdown",
      "source": [
        "**F. Сила прокрастинации**"
      ],
      "metadata": {
        "id": "CCg6m0ZIzHXd"
      }
    },
    {
      "cell_type": "code",
      "source": [
        "year = int(input())\n",
        "\n",
        "if ((year % 4 == 0) and not (year % 100 == 0)) or (year % 400 == 0):\n",
        "    print(\"YES\")\n",
        "else:\n",
        "    print(\"NO\")"
      ],
      "metadata": {
        "id": "lrkoYmgUzLXj"
      },
      "execution_count": null,
      "outputs": []
    },
    {
      "cell_type": "markdown",
      "source": [
        "**G. А роза упала на лапу Азора**"
      ],
      "metadata": {
        "id": "iwlpyACxzMcy"
      }
    },
    {
      "cell_type": "code",
      "source": [
        "inp = str(input())\n",
        "\n",
        "if (inp[0] == inp[-1]) and (inp[1] == inp[2]):\n",
        "    print(\"YES\")\n",
        "else:\n",
        "    print(\"NO\")"
      ],
      "metadata": {
        "id": "pHsccVOtzO68"
      },
      "execution_count": null,
      "outputs": []
    },
    {
      "cell_type": "markdown",
      "source": [
        "**H. Зайка — 1**"
      ],
      "metadata": {
        "id": "bLkUoGUFzVz0"
      }
    },
    {
      "cell_type": "code",
      "source": [
        "inp = str(input())\n",
        "\n",
        "if 'зайка' in inp:\n",
        "    print(\"YES\")\n",
        "else:\n",
        "    print(\"NO\")"
      ],
      "metadata": {
        "id": "lEUE9E3jzWym"
      },
      "execution_count": null,
      "outputs": []
    },
    {
      "cell_type": "markdown",
      "source": [
        "**I. Первому игроку приготовиться**"
      ],
      "metadata": {
        "id": "uiSVFb4hzcuy"
      }
    },
    {
      "cell_type": "code",
      "source": [
        "name1 = str(input())\n",
        "name2 = str(input())\n",
        "name3 = str(input())\n",
        "\n",
        "if name1 < name2 and name1 < name3:\n",
        "    print(name1)\n",
        "elif name2 < name3 and name2 < name1:\n",
        "    print(name2)\n",
        "elif name3 < name1 and name3 < name2:\n",
        "    print(name3)"
      ],
      "metadata": {
        "id": "yFdIVkFwzetJ"
      },
      "execution_count": null,
      "outputs": []
    },
    {
      "cell_type": "markdown",
      "source": [
        "**J. Лучшая защита — шифрование**"
      ],
      "metadata": {
        "id": "lZY_WBuRziuZ"
      }
    },
    {
      "cell_type": "code",
      "source": [
        "number = str(input())\n",
        "\n",
        "end = int(number[1]) + int(number[2])\n",
        "start = int(number[0]) + int(number[1])\n",
        "\n",
        "if end < start:\n",
        "    print(str(start) + str(end))\n",
        "else:\n",
        "    print(str(end) + str(start))"
      ],
      "metadata": {
        "id": "SEx2nipWzlns"
      },
      "execution_count": null,
      "outputs": []
    },
    {
      "cell_type": "markdown",
      "source": [
        "**K. Красота спасёт мир**"
      ],
      "metadata": {
        "id": "ZPYgcklSznAn"
      }
    },
    {
      "cell_type": "code",
      "source": [
        "num = str(input())\n",
        "\n",
        "dig1 = num[0]\n",
        "dig2 = num[1]\n",
        "dig3 = num[2]\n",
        "\n",
        "maxi = dig3\n",
        "if (dig1 > dig2) and (dig1 > dig3):\n",
        "    maxi = dig1\n",
        "elif (dig2 > dig1) and (dig2 > dig3):\n",
        "    maxi = dig2\n",
        "elif (dig3 > dig1) and (dig3 > dig2):\n",
        "    maxi = dig3\n",
        "\n",
        "mini = dig1\n",
        "if (dig1 < dig2) and (dig1 < dig3):\n",
        "    mini = dig1\n",
        "elif (dig2 < dig1) and (dig2 < dig3):\n",
        "    mini = dig2\n",
        "elif (dig3 < dig1) and (dig3 < dig2):\n",
        "    mini = dig3\n",
        "\n",
        "midi = dig2\n",
        "\n",
        "if (dig1 != mini) and (dig1 != maxi):\n",
        "    midi = dig1\n",
        "elif (dig2 != mini) and (dig2 != maxi):\n",
        "    midi = dig2\n",
        "elif (dig3 != mini) and (dig3 != maxi):\n",
        "    midi = dig3\n",
        "\n",
        "if (int(maxi) + int(mini)) == 2 * int(midi):\n",
        "    print(\"YES\")\n",
        "else:\n",
        "    print(\"NO\")"
      ],
      "metadata": {
        "id": "5Rykp7rIzo4o"
      },
      "execution_count": null,
      "outputs": []
    },
    {
      "cell_type": "markdown",
      "source": [
        "**L. Музыкальный инструмент**"
      ],
      "metadata": {
        "id": "PQCTnw6DzpzG"
      }
    },
    {
      "cell_type": "code",
      "source": [
        "a = int(input())\n",
        "b = int(input())\n",
        "c = int(input())\n",
        "\n",
        "if (a < b + c) and (b < a + c) and (c < b + a):\n",
        "    print(\"YES\")\n",
        "else:\n",
        "    print(\"NO\")"
      ],
      "metadata": {
        "id": "bQYJ7tMazr0p"
      },
      "execution_count": null,
      "outputs": []
    },
    {
      "cell_type": "markdown",
      "source": [
        "**M. Властелин Чисел: Братство общей цифры**"
      ],
      "metadata": {
        "id": "u2lhFMknztFD"
      }
    },
    {
      "cell_type": "code",
      "source": [
        "n1 = str(input())\n",
        "n2 = str(input())\n",
        "n3 = str(input())\n",
        "\n",
        "n1_1, n1_2 = n1[0], n1[1]\n",
        "n2_1, n2_2 = n2[0], n2[1]\n",
        "n3_1, n3_2 = n3[0], n3[1]\n",
        "\n",
        "if (n1_1 == n2_1) and (n1_1 == n3_1) and (n2_1 == n3_1):\n",
        "    print(n1_1)\n",
        "elif (n1_2 == n2_2) and (n1_2 == n3_2) and (n2_2 == n3_2):\n",
        "    print(n1_2)"
      ],
      "metadata": {
        "id": "O0IOeZquzuD8"
      },
      "execution_count": null,
      "outputs": []
    },
    {
      "cell_type": "markdown",
      "source": [
        "**N. Властелин Чисел: Две Башни**"
      ],
      "metadata": {
        "id": "xaT8BsMrzyUC"
      }
    },
    {
      "cell_type": "code",
      "source": [
        "num = str(input())\n",
        "\n",
        "d1 = int(num[0])\n",
        "d2 = int(num[1])\n",
        "d3 = int(num[2])\n",
        "\n",
        "digs = [d1, d2, d3]\n",
        "digs.sort()\n",
        "mini = str(digs[0])\n",
        "midi = str(digs[1])\n",
        "maxi = str(digs[2])\n",
        "\n",
        "if mini != '0' and midi != '0':\n",
        "    print(mini + midi, maxi + midi)\n",
        "\n",
        "elif mini == '0' and midi != '0':\n",
        "    print(midi + mini, maxi + midi)\n",
        "\n",
        "elif mini == '0' and midi == '0':\n",
        "    print(maxi + mini, maxi + midi)"
      ],
      "metadata": {
        "id": "tn2mxHfkz0nb"
      },
      "execution_count": null,
      "outputs": []
    },
    {
      "cell_type": "markdown",
      "source": [
        "**O. Властелин Чисел: Возвращение Цезаря**"
      ],
      "metadata": {
        "id": "-BPgcd7gz1ie"
      }
    },
    {
      "cell_type": "code",
      "source": [
        "num1 = str(input())\n",
        "num2 = str(input())\n",
        "\n",
        "d1, d2 = num1[0], num1[1]\n",
        "d3, d4 = num2[0], num2[1]\n",
        "\n",
        "mini1, maxi1 = -1, -1\n",
        "midi1, midi2 = -1, -1\n",
        "mini2, maxi2 = -1, -1\n",
        "\n",
        "if d1 <= d2:\n",
        "    mini1, maxi1 = d1, d2\n",
        "else:\n",
        "    mini1, maxi1 = d2, d1\n",
        "\n",
        "\n",
        "if d3 <= d4:\n",
        "    mini2, maxi2 = d3, d4\n",
        "else:\n",
        "    mini2, maxi2 = d4, d3\n",
        "\n",
        "mini_glb = -1\n",
        "maxi_glb = -1\n",
        "\n",
        "if mini1 < mini2:\n",
        "    mini_glb = mini1\n",
        "    midi1 = mini2\n",
        "else:\n",
        "    mini_glb = mini2\n",
        "    midi1 = mini1\n",
        "\n",
        "if maxi1 < maxi2:\n",
        "    maxi_glb = maxi2\n",
        "    midi2 = maxi1\n",
        "else:\n",
        "    maxi_glb = maxi1\n",
        "    midi2 = maxi2\n",
        "\n",
        "print(maxi_glb + str((int(midi1) + int(midi2)) % 10) + mini_glb)"
      ],
      "metadata": {
        "id": "bw5QJeaDz3os"
      },
      "execution_count": null,
      "outputs": []
    },
    {
      "cell_type": "markdown",
      "source": [
        "**P. Легенды велогонок возвращаются: кто быстрее?**"
      ],
      "metadata": {
        "id": "2FCIj0CPz4r8"
      }
    },
    {
      "cell_type": "code",
      "source": [
        "vP = int(input())\n",
        "vV = int(input())\n",
        "vT = int(input())\n",
        "\n",
        "tP = 43872 / vP\n",
        "tV = 43872 / vV\n",
        "tT = 43872 / vT\n",
        "\n",
        "if (tP < tV) and (tP < tT):\n",
        "    place1 = \"Петя\"\n",
        "    if (tT < tV):\n",
        "        place2 = \"Толя\"\n",
        "        place3 = \"Вася\"\n",
        "    else:\n",
        "        place2 = \"Вася\"\n",
        "        place3 = \"Толя\"\n",
        "\n",
        "elif (tV < tP) and (tV < tT):\n",
        "    place1 = \"Вася\"\n",
        "    if (tP < tT):\n",
        "        place2 = \"Петя\"\n",
        "        place3 = \"Толя\"\n",
        "    else:\n",
        "        place2 = \"Толя\"\n",
        "        place3 = \"Петя\"\n",
        "\n",
        "elif (tT < tP) and (tT < tV):\n",
        "    place1 = \"Толя\"\n",
        "    if (tP < tV):\n",
        "        place2 = \"Петя\"\n",
        "        place3 = \"Вася\"\n",
        "    else:\n",
        "        place2 = \"Вася\"\n",
        "        place3 = \"Петя\"\n",
        "\n",
        "print(\"{:^8}{:^8}{:^8}\".format(\" \", place1, \" \"))\n",
        "print(\"{:^8}{:^8}{:^8}\".format(place2, \" \", \" \"))\n",
        "print(\"{:^8}{:^8}{:^8}\".format(\" \", \" \", place3))\n",
        "print(\"{:^8}{:^8}{:^8}\".format(\"II\", \"I\", \"III\"))"
      ],
      "metadata": {
        "id": "dtXDEYQHz6x9"
      },
      "execution_count": null,
      "outputs": []
    },
    {
      "cell_type": "markdown",
      "source": [
        "**Q. Корень зла**"
      ],
      "metadata": {
        "id": "ImXW7OkEz8Q5"
      }
    },
    {
      "cell_type": "code",
      "source": [
        "a = float(input())\n",
        "b = float(input())\n",
        "c = float(input())\n",
        "\n",
        "if a == 0 and b == 0 and c == 0:\n",
        "    print('Infinite solutions')\n",
        "elif a == 0 and b == 0 and c != 0 or b ** 2 < 4 * a * c:\n",
        "    print('No solution')\n",
        "elif b ** 2 == 4 * a * c:\n",
        "    print(f'{-b / (2 * a):.2f}')\n",
        "elif a == 0:\n",
        "    print(f'{-c / b:.2f}')\n",
        "else:\n",
        "    roots = [(-b - (b ** 2 - 4 * a * c) ** 0.5) / (2 * a), (-b + (b ** 2 - 4 * a * c) ** 0.5) / (2 * a)]\n",
        "    roots.sort()\n",
        "    print(f'{roots[0]:.2f} {roots[1]:.2f}')"
      ],
      "metadata": {
        "id": "w_t3-Szjz_dt"
      },
      "execution_count": null,
      "outputs": []
    },
    {
      "cell_type": "markdown",
      "source": [
        "**R. Территория зла**"
      ],
      "metadata": {
        "id": "YHPL2XhX0AhO"
      }
    },
    {
      "cell_type": "code",
      "source": [
        "a = int(input())\n",
        "b = int(input())\n",
        "c = int(input())\n",
        "\n",
        "maxi = a\n",
        "if a > b and a > c:\n",
        "    maxi = a\n",
        "\n",
        "elif b > c and b > a:\n",
        "    maxi = b\n",
        "\n",
        "elif c > a and c > b:\n",
        "    maxi = c\n",
        "\n",
        "mini = b\n",
        "if a < b and a < c:\n",
        "    mini = a\n",
        "\n",
        "elif b < c and b < a:\n",
        "    mini = b\n",
        "\n",
        "elif c < a and c < b:\n",
        "    mini = c\n",
        "\n",
        "midi = c\n",
        "if a != maxi and a != mini:\n",
        "    midi = a\n",
        "\n",
        "elif b != maxi and b != mini:\n",
        "    midi = b\n",
        "\n",
        "elif c != maxi and c != mini:\n",
        "    midi = c\n",
        "\n",
        "if maxi ** 2 == mini ** 2 + midi ** 2:\n",
        "    print(\"100%\")\n",
        "elif maxi ** 2 > mini ** 2 + midi ** 2:\n",
        "    print(\"велика\")\n",
        "else:\n",
        "    print(\"крайне мала\")"
      ],
      "metadata": {
        "id": "W3GKIHhj0C6t"
      },
      "execution_count": null,
      "outputs": []
    },
    {
      "cell_type": "markdown",
      "source": [
        "**S. Автоматизация безопасности**"
      ],
      "metadata": {
        "id": "Vs7AfrP90DMS"
      }
    },
    {
      "cell_type": "code",
      "source": [
        "x = float(input())\n",
        "y = float(input())\n",
        "\n",
        "if (x ** 2 + y ** 2) ** 0.5 > 10:\n",
        "    print('Вы вышли в море и рискуете быть съеденным акулой!')\n",
        "\n",
        "elif 0.25 * x ** 2 + 0.5 * x - 8.75 <= y <= 0:\n",
        "    print('Опасность! Покиньте зону как можно скорее!')\n",
        "\n",
        "elif -7 <= x < -4 and 5 >= y >= 0 and 5 * x - 3 * y > -35:\n",
        "    print('Опасность! Покиньте зону как можно скорее!')\n",
        "\n",
        "elif (x >= 0 and y >= 0 and (x ** 2 + y ** 2) ** 0.5 <= 5):\n",
        "    print('Опасность! Покиньте зону как можно скорее!')\n",
        "\n",
        "elif (-4 <= x < 0 and 5 >= y >= 0):\n",
        "    print('Опасность! Покиньте зону как можно скорее!')\n",
        "\n",
        "else:\n",
        "    print('Зона безопасна. Продолжайте работу.')"
      ],
      "metadata": {
        "id": "wXaogOcq0GGD"
      },
      "execution_count": null,
      "outputs": []
    },
    {
      "cell_type": "markdown",
      "source": [
        "**T. Зайка — 2**"
      ],
      "metadata": {
        "id": "hdw_cP_C0JTQ"
      }
    },
    {
      "cell_type": "code",
      "source": [
        "str1 = str(input())\n",
        "str2 = str(input())\n",
        "str3 = str(input())\n",
        "\n",
        "if (\"зайка\" in str1) and (\"зайка\" not in str2) and (\"зайка\" not in str3):\n",
        "    print(str1, len(str1))\n",
        "\n",
        "elif (\"зайка\" not in str1) and (\"зайка\" in str2) and (\"зайка\" not in str3):\n",
        "    print(str2, len(str2))\n",
        "\n",
        "elif (\"зайка\" not in str1) and (\"зайка\" not in str2) and (\"зайка\" in str3):\n",
        "    print(str3, len(str3))\n",
        "\n",
        "elif (\"зайка\" in str1) and (\"зайка\" in str2) and (\"зайка\" not in str3):\n",
        "    if str1 < str2:\n",
        "        print(str1, len(str1))\n",
        "    else:\n",
        "        print(str2, len(str2))\n",
        "\n",
        "elif (\"зайка\" in str1) and (\"зайка\" in str3) and (\"зайка\" not in str2):\n",
        "    if str1 < str3:\n",
        "        print(str1, len(str1))\n",
        "    else:\n",
        "        print(str3, len(str3))\n",
        "\n",
        "elif (\"зайка\" in str2) and (\"зайка\" in str3) and (\"зайка\" not in str1):\n",
        "    if str2 < str3:\n",
        "        print(str2, len(str2))\n",
        "    else:\n",
        "        print(str3, len(str3))\n",
        "\n",
        "elif (\"зайка\" in str1) and (\"зайка\" in str2) and (\"зайка\" in str3):\n",
        "    if str1 < str2 and str1 < str3:\n",
        "        print(str1, len(str1))\n",
        "\n",
        "    elif str2 < str3 and str2 < str1:\n",
        "        print(str2, len(str2))\n",
        "\n",
        "    elif str3 < str1 and str3 < str2:\n",
        "        print(str3, len(str3))"
      ],
      "metadata": {
        "id": "Fe2qqXux0Kp-"
      },
      "execution_count": null,
      "outputs": []
    }
  ]
}