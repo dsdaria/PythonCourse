{
  "nbformat": 4,
  "nbformat_minor": 0,
  "metadata": {
    "colab": {
      "provenance": []
    },
    "kernelspec": {
      "name": "python3",
      "display_name": "Python 3"
    },
    "language_info": {
      "name": "python"
    }
  },
  "cells": [
    {
      "cell_type": "markdown",
      "source": [
        "**2.3.\n",
        "Циклы**"
      ],
      "metadata": {
        "id": "ERSllmecywNA"
      }
    },
    {
      "cell_type": "markdown",
      "source": [
        "**A. Раз, два, три! Ёлочка, гори!**"
      ],
      "metadata": {
        "id": "mOIZuNGIyxUL"
      }
    },
    {
      "cell_type": "code",
      "execution_count": null,
      "metadata": {
        "id": "jstd-5E7yrDd"
      },
      "outputs": [],
      "source": [
        "inp = str(input())\n",
        "\n",
        "while (inp != \"Три!\"):\n",
        "    print(\"Режим ожидания...\")\n",
        "    inp = input()\n",
        "print(\"Ёлочка, гори!\")"
      ]
    },
    {
      "cell_type": "markdown",
      "source": [
        "**B. Зайка — 3**"
      ],
      "metadata": {
        "id": "8ITdxx-wy1b3"
      }
    },
    {
      "cell_type": "code",
      "execution_count": null,
      "metadata": {
        "id": "wNfr-So9y1b3"
      },
      "outputs": [],
      "source": [
        "inp = str(input())\n",
        "counter = 0\n",
        "while (inp != \"Приехали!\"):\n",
        "    if \"зайка\" in inp:\n",
        "        counter += 1\n",
        "    inp = input()\n",
        "print(counter)"
      ]
    },
    {
      "cell_type": "markdown",
      "source": [
        "**C. Считалочка**"
      ],
      "metadata": {
        "id": "ag0C89zPy8GA"
      }
    },
    {
      "cell_type": "code",
      "source": [
        "a = int(input())\n",
        "b = int(input())\n",
        "\n",
        "for i in range(a, b + 1):\n",
        "    print(i, end=\" \")"
      ],
      "metadata": {
        "id": "xF70_qHJy-gB"
      },
      "execution_count": null,
      "outputs": []
    },
    {
      "cell_type": "markdown",
      "source": [
        "**D. Считалочка 2.0**"
      ],
      "metadata": {
        "id": "oZW4TEIUy_tW"
      }
    },
    {
      "cell_type": "code",
      "source": [
        "a = int(input())\n",
        "b = int(input())\n",
        "\n",
        "if a <= b:\n",
        "    step = 1\n",
        "    end = b + 1\n",
        "else:\n",
        "    step = -1\n",
        "    end = b - 1\n",
        "\n",
        "for i in range(a, end, step):\n",
        "    print(i, end=' ')"
      ],
      "metadata": {
        "id": "nt7o9OgFzBmj"
      },
      "execution_count": null,
      "outputs": []
    },
    {
      "cell_type": "markdown",
      "source": [
        "**E. Внимание! Акция!**"
      ],
      "metadata": {
        "id": "JJovsVy5zCxZ"
      }
    },
    {
      "cell_type": "code",
      "source": [
        "inp = float(input())\n",
        "summa = 0\n",
        "while (inp != 0):\n",
        "    if inp >= 500:\n",
        "        summa += inp * 0.9\n",
        "    else:\n",
        "        summa += inp\n",
        "    inp = float(input())\n",
        "print(summa)"
      ],
      "metadata": {
        "id": "wPlY1Jq1zGpi"
      },
      "execution_count": null,
      "outputs": []
    },
    {
      "cell_type": "markdown",
      "source": [
        "**F. НОД**"
      ],
      "metadata": {
        "id": "CCg6m0ZIzHXd"
      }
    },
    {
      "cell_type": "code",
      "source": [
        "a = int(input())\n",
        "b = int(input())\n",
        "\n",
        "while a != 0 and b != 0:\n",
        "    if a > b:\n",
        "        a = a % b\n",
        "    else:\n",
        "        b = b % a\n",
        "\n",
        "print(a + b)"
      ],
      "metadata": {
        "id": "lrkoYmgUzLXj"
      },
      "execution_count": null,
      "outputs": []
    },
    {
      "cell_type": "markdown",
      "source": [
        "**G. НОК**"
      ],
      "metadata": {
        "id": "iwlpyACxzMcy"
      }
    },
    {
      "cell_type": "code",
      "source": [
        "a = int(input())\n",
        "b = int(input())\n",
        "\n",
        "mul = a * b\n",
        "while a != 0 and b != 0:\n",
        "    if a > b:\n",
        "        a = a % b\n",
        "    else:\n",
        "        b = b % a\n",
        "\n",
        "print(mul // (a + b))"
      ],
      "metadata": {
        "id": "pHsccVOtzO68"
      },
      "execution_count": null,
      "outputs": []
    },
    {
      "cell_type": "markdown",
      "source": [
        "**H. Излишняя автоматизация 2.0**"
      ],
      "metadata": {
        "id": "bLkUoGUFzVz0"
      }
    },
    {
      "cell_type": "code",
      "source": [
        "inp = str(input())\n",
        "n = int(input())\n",
        "\n",
        "for i in range(n):\n",
        "    print(inp)"
      ],
      "metadata": {
        "id": "lEUE9E3jzWym"
      },
      "execution_count": null,
      "outputs": []
    },
    {
      "cell_type": "markdown",
      "source": [
        "**I. Факториал**"
      ],
      "metadata": {
        "id": "uiSVFb4hzcuy"
      }
    },
    {
      "cell_type": "code",
      "source": [
        "n = int(input())\n",
        "factorial = 1\n",
        "\n",
        "for i in range(1, n + 1):\n",
        "    factorial = factorial * i\n",
        "\n",
        "print(factorial)"
      ],
      "metadata": {
        "id": "yFdIVkFwzetJ"
      },
      "execution_count": null,
      "outputs": []
    },
    {
      "cell_type": "markdown",
      "source": [
        "**J. Маршрут построен**"
      ],
      "metadata": {
        "id": "lZY_WBuRziuZ"
      }
    },
    {
      "cell_type": "code",
      "source": [
        "cor1, cor2 = 0, 0\n",
        "while (step := str(input())) != 'СТОП':\n",
        "    cord = int(input())\n",
        "    if step == 'СЕВЕР':\n",
        "        cor1 += cord\n",
        "    if step == 'ЮГ':\n",
        "        cor1 -= cord\n",
        "    if step == 'ВОСТОК':\n",
        "        cor2 += cord\n",
        "    if step == 'ЗАПАД':\n",
        "        cor2 -= cord\n",
        "\n",
        "print(cor1)\n",
        "print(cor2)"
      ],
      "metadata": {
        "id": "SEx2nipWzlns"
      },
      "execution_count": null,
      "outputs": []
    },
    {
      "cell_type": "markdown",
      "source": [
        "**K. Цифровая сумма**"
      ],
      "metadata": {
        "id": "ZPYgcklSznAn"
      }
    },
    {
      "cell_type": "code",
      "source": [
        "num = str(input())\n",
        "summa = 0\n",
        "\n",
        "for i in range(len(num)):\n",
        "    summa += int(num[i])\n",
        "print(summa)"
      ],
      "metadata": {
        "id": "5Rykp7rIzo4o"
      },
      "execution_count": null,
      "outputs": []
    },
    {
      "cell_type": "markdown",
      "source": [
        "**L. Сильная цифра**"
      ],
      "metadata": {
        "id": "PQCTnw6DzpzG"
      }
    },
    {
      "cell_type": "code",
      "source": [
        "num = str(input())\n",
        "maxi = num[0]\n",
        "\n",
        "for i in range(len(num)):\n",
        "    if num[i] > maxi:\n",
        "        maxi = num[i]\n",
        "print(maxi)"
      ],
      "metadata": {
        "id": "bQYJ7tMazr0p"
      },
      "execution_count": null,
      "outputs": []
    },
    {
      "cell_type": "markdown",
      "source": [
        "**M. Первому игроку приготовиться 2.0**"
      ],
      "metadata": {
        "id": "u2lhFMknztFD"
      }
    },
    {
      "cell_type": "code",
      "source": [
        "n = int(input())\n",
        "first = str(input())\n",
        "i = 1\n",
        "while i < n:\n",
        "    inp = str(input())\n",
        "    if inp < first:\n",
        "        first = inp\n",
        "    i += 1\n",
        "print(first)"
      ],
      "metadata": {
        "id": "O0IOeZquzuD8"
      },
      "execution_count": null,
      "outputs": []
    },
    {
      "cell_type": "markdown",
      "source": [
        "**N. Простая задача**"
      ],
      "metadata": {
        "id": "xaT8BsMrzyUC"
      }
    },
    {
      "cell_type": "code",
      "source": [
        "n = int(input())\n",
        "i, result = 2, 'YES'\n",
        "\n",
        "if n > 1:\n",
        "    while n % i != 0:\n",
        "        if i > n ** 0.5:\n",
        "            break\n",
        "        i += 1\n",
        "    else:\n",
        "        result = 'NO'\n",
        "else:\n",
        "    result = 'NO'\n",
        "\n",
        "print(result)"
      ],
      "metadata": {
        "id": "tn2mxHfkz0nb"
      },
      "execution_count": null,
      "outputs": []
    },
    {
      "cell_type": "markdown",
      "source": [
        "**O. Зайка - 4**"
      ],
      "metadata": {
        "id": "-BPgcd7gz1ie"
      }
    },
    {
      "cell_type": "code",
      "source": [
        "n = int(input())\n",
        "counter = 0\n",
        "i = 1\n",
        "while i < n + 1:\n",
        "    inp = str(input())\n",
        "    if \"зайка\" in inp:\n",
        "        counter += 1\n",
        "    i += 1\n",
        "\n",
        "print(counter)"
      ],
      "metadata": {
        "id": "bw5QJeaDz3os"
      },
      "execution_count": null,
      "outputs": []
    },
    {
      "cell_type": "markdown",
      "source": [
        "**P. А роза упала на лапу Азора 2.0**"
      ],
      "metadata": {
        "id": "2FCIj0CPz4r8"
      }
    },
    {
      "cell_type": "code",
      "source": [
        "inp = str(input())\n",
        "inp_res = \"\"\n",
        "\n",
        "for i in range(len(inp) - 1, -1, -1):\n",
        "    inp_res += str(inp[i])\n",
        "\n",
        "if inp == inp_res:\n",
        "    print(\"YES\")\n",
        "else:\n",
        "    print(\"NO\")"
      ],
      "metadata": {
        "id": "dtXDEYQHz6x9"
      },
      "execution_count": null,
      "outputs": []
    },
    {
      "cell_type": "markdown",
      "source": [
        "**Q. Чётная чистота**"
      ],
      "metadata": {
        "id": "ImXW7OkEz8Q5"
      }
    },
    {
      "cell_type": "code",
      "source": [
        "inp = str(input())\n",
        "ret = ''\n",
        "for i in range(len(inp)):\n",
        "    if int(inp[i]) % 2 == 1:\n",
        "        ret += str(inp[i])\n",
        "\n",
        "print(ret)"
      ],
      "metadata": {
        "id": "w_t3-Szjz_dt"
      },
      "execution_count": null,
      "outputs": []
    },
    {
      "cell_type": "markdown",
      "source": [
        "**R. Простая задача 2.0**"
      ],
      "metadata": {
        "id": "YHPL2XhX0AhO"
      }
    },
    {
      "cell_type": "code",
      "source": [
        "n = int(input())\n",
        "\n",
        "muls = []\n",
        "i = 1\n",
        "\n",
        "if n < 2:\n",
        "    print(n)\n",
        "\n",
        "while n > 1:\n",
        "    i += 1\n",
        "    if not n % i:\n",
        "        muls.append(str(i))\n",
        "        n //= i\n",
        "        i = 1\n",
        "else:\n",
        "    print(' * '.join(muls))"
      ],
      "metadata": {
        "id": "W3GKIHhj0C6t"
      },
      "execution_count": null,
      "outputs": []
    },
    {
      "cell_type": "markdown",
      "source": [
        "**S. Игра в «Угадайку»**"
      ],
      "metadata": {
        "id": "Vs7AfrP90DMS"
      }
    },
    {
      "cell_type": "code",
      "source": [
        "begin, end = 1, 1001\n",
        "print((begin + end) // 2)\n",
        "\n",
        "while (x := input()) != 'Угадал!':\n",
        "    if x == 'Больше':\n",
        "        begin = (begin + end) // 2\n",
        "        print((begin + end) // 2)\n",
        "    elif x == 'Меньше':\n",
        "        end = (begin + end) // 2\n",
        "        print((begin + end) // 2)"
      ],
      "metadata": {
        "id": "wXaogOcq0GGD"
      },
      "execution_count": null,
      "outputs": []
    },
    {
      "cell_type": "markdown",
      "source": [
        "**T. Хайпанём немножечко!**"
      ],
      "metadata": {
        "id": "hdw_cP_C0JTQ"
      }
    },
    {
      "cell_type": "code",
      "source": [
        "res, hn1 = -1, 0\n",
        "for i in range(int(input())):\n",
        "    b = int(input())\n",
        "    h = b % 256\n",
        "    r = (b // 256) % 256\n",
        "    m = b // 256 ** 2\n",
        "\n",
        "    t = ((m + r + hn1) * 37) % 256\n",
        "    if t != h or h > 99:\n",
        "        res = i\n",
        "        break\n",
        "\n",
        "    hn1 = h\n",
        "print(res)"
      ],
      "metadata": {
        "id": "Fe2qqXux0Kp-"
      },
      "execution_count": null,
      "outputs": []
    }
  ]
}