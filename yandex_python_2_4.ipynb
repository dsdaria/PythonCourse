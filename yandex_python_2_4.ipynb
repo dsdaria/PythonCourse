{
  "nbformat": 4,
  "nbformat_minor": 0,
  "metadata": {
    "colab": {
      "provenance": []
    },
    "kernelspec": {
      "name": "python3",
      "display_name": "Python 3"
    },
    "language_info": {
      "name": "python"
    }
  },
  "cells": [
    {
      "cell_type": "markdown",
      "source": [
        "**2.4.\n",
        "Вложенные циклы**"
      ],
      "metadata": {
        "id": "ERSllmecywNA"
      }
    },
    {
      "cell_type": "markdown",
      "source": [
        "**A. Таблица умножения**"
      ],
      "metadata": {
        "id": "mOIZuNGIyxUL"
      }
    },
    {
      "cell_type": "code",
      "execution_count": null,
      "metadata": {
        "id": "jstd-5E7yrDd"
      },
      "outputs": [],
      "source": [
        "n = int(input())\n",
        "\n",
        "for i in range(1, n + 1):\n",
        "    for j in range(1, n + 1):\n",
        "        print(i * j, end=\" \")\n",
        "    print('')"
      ]
    },
    {
      "cell_type": "markdown",
      "source": [
        "**B. Не таблица умножения**"
      ],
      "metadata": {
        "id": "8ITdxx-wy1b3"
      }
    },
    {
      "cell_type": "code",
      "execution_count": null,
      "metadata": {
        "id": "wNfr-So9y1b3"
      },
      "outputs": [],
      "source": [
        "n = int(input())\n",
        "\n",
        "for i in range(1, n + 1):\n",
        "    for j in range(1, n + 1):\n",
        "        print(f'{j} * {i} = {i*j}')"
      ]
    },
    {
      "cell_type": "markdown",
      "source": [
        "**C. Новогоднее настроение**"
      ],
      "metadata": {
        "id": "ag0C89zPy8GA"
      }
    },
    {
      "cell_type": "code",
      "source": [
        "n = int(input())\n",
        "for num in range(1, n + 1):\n",
        "    if n == 2:\n",
        "        print(1)\n",
        "        print(2)\n",
        "        break\n",
        "    else:\n",
        "        if num in (sum(range(i)) for i in range(n)):\n",
        "            print(num)\n",
        "        else:\n",
        "            print(num, end=' ')"
      ],
      "metadata": {
        "id": "xF70_qHJy-gB"
      },
      "execution_count": null,
      "outputs": []
    },
    {
      "cell_type": "markdown",
      "source": [
        "**D. Суммарная сумма**"
      ],
      "metadata": {
        "id": "oZW4TEIUy_tW"
      }
    },
    {
      "cell_type": "code",
      "source": [
        "summa = 0\n",
        "n = int(input())\n",
        "for i in range(n):\n",
        "    elem = str(input())\n",
        "    summa_elem = 0\n",
        "    for j in range(len(elem)):\n",
        "        summa_elem += int(elem[j])\n",
        "    summa += summa_elem\n",
        "\n",
        "print(summa)"
      ],
      "metadata": {
        "id": "nt7o9OgFzBmj"
      },
      "execution_count": null,
      "outputs": []
    },
    {
      "cell_type": "markdown",
      "source": [
        "**E. Зайка — 5**"
      ],
      "metadata": {
        "id": "JJovsVy5zCxZ"
      }
    },
    {
      "cell_type": "code",
      "source": [
        "n = int(input())\n",
        "counter_glb = 0\n",
        "for i in range(n):\n",
        "    counter = 0\n",
        "    while (inp := str(input())) != \"ВСЁ\":\n",
        "        if 'зайка' in inp:\n",
        "            counter += 1\n",
        "    if counter > 0:\n",
        "        counter_glb += 1\n",
        "\n",
        "print(counter_glb)"
      ],
      "metadata": {
        "id": "wPlY1Jq1zGpi"
      },
      "execution_count": null,
      "outputs": []
    },
    {
      "cell_type": "markdown",
      "source": [
        "**F. НОД 2.0**"
      ],
      "metadata": {
        "id": "CCg6m0ZIzHXd"
      }
    },
    {
      "cell_type": "code",
      "source": [
        "n = int(input())\n",
        "first = int(input())\n",
        "\n",
        "for num in range(n - 1):\n",
        "    second = int(input())\n",
        "    while second != 0:\n",
        "        first, second = second, first % second\n",
        "\n",
        "print(first)"
      ],
      "metadata": {
        "id": "lrkoYmgUzLXj"
      },
      "execution_count": null,
      "outputs": []
    },
    {
      "cell_type": "markdown",
      "source": [
        "**G. На старт! Внимание! Марш!**"
      ],
      "metadata": {
        "id": "iwlpyACxzMcy"
      }
    },
    {
      "cell_type": "code",
      "source": [
        "for i in range(1, int(input()) + 1):\n",
        "    for j in range(i + 2, 0, -1):\n",
        "        print(f'До старта {j} секунд(ы)')\n",
        "    print(f'Старт {i}!!!')"
      ],
      "metadata": {
        "id": "pHsccVOtzO68"
      },
      "execution_count": null,
      "outputs": []
    },
    {
      "cell_type": "markdown",
      "source": [
        "**H. Максимальная сумма**"
      ],
      "metadata": {
        "id": "bLkUoGUFzVz0"
      }
    },
    {
      "cell_type": "code",
      "source": [
        "n = int(input())\n",
        "name = \"\"\n",
        "sum_max = 0\n",
        "for i in range(n):\n",
        "    name_ = str(input())\n",
        "    num = str(input())\n",
        "    summa = 0\n",
        "    for j in range(len(num)):\n",
        "        summa += int(num[j])\n",
        "    if summa >= sum_max:\n",
        "        sum_max = summa\n",
        "        name = name_\n",
        "\n",
        "print(name)"
      ],
      "metadata": {
        "id": "lEUE9E3jzWym"
      },
      "execution_count": null,
      "outputs": []
    },
    {
      "cell_type": "markdown",
      "source": [
        "**I. Большое число**"
      ],
      "metadata": {
        "id": "uiSVFb4hzcuy"
      }
    },
    {
      "cell_type": "code",
      "source": [
        "new_num = \"\"\n",
        "for i in range(int(input())):\n",
        "    new_num += str(max(str(input())))\n",
        "print(new_num)"
      ],
      "metadata": {
        "id": "yFdIVkFwzetJ"
      },
      "execution_count": null,
      "outputs": []
    },
    {
      "cell_type": "markdown",
      "source": [
        "**J. Мы делили апельсин**"
      ],
      "metadata": {
        "id": "lZY_WBuRziuZ"
      }
    },
    {
      "cell_type": "code",
      "source": [
        "n = int(input())\n",
        "print(\"А Б В\")\n",
        "for i in range(1, n):\n",
        "    for j in range(1, n - i):\n",
        "        print(i, j, n - i - j)"
      ],
      "metadata": {
        "id": "SEx2nipWzlns"
      },
      "execution_count": null,
      "outputs": []
    },
    {
      "cell_type": "markdown",
      "source": [
        "**K. Простая задача 3.0**"
      ],
      "metadata": {
        "id": "ZPYgcklSznAn"
      }
    },
    {
      "cell_type": "code",
      "source": [
        "nums = int(input())\n",
        "\n",
        "counter = 0\n",
        "\n",
        "for k in range(nums):\n",
        "    n = int(input())\n",
        "    i, result = 2, 'YES'\n",
        "\n",
        "    if n == 1:\n",
        "        counter += 1\n",
        "    if n > 1:\n",
        "        while n % i != 0:\n",
        "            if i > n ** 0.5:\n",
        "                break\n",
        "            i += 1\n",
        "        else:\n",
        "            result = 'NO'\n",
        "    else:\n",
        "        result = 'NO'\n",
        "\n",
        "    if result == 'YES':\n",
        "        counter += 1\n",
        "\n",
        "print(counter)"
      ],
      "metadata": {
        "id": "5Rykp7rIzo4o"
      },
      "execution_count": null,
      "outputs": []
    },
    {
      "cell_type": "markdown",
      "source": [
        "**L. Числовой прямоугольник**"
      ],
      "metadata": {
        "id": "PQCTnw6DzpzG"
      }
    },
    {
      "cell_type": "code",
      "source": [
        "height = int(input())\n",
        "width = int(input())\n",
        "\n",
        "for i in range(1, height + 1):\n",
        "    for j in range(width * (i - 1) + 1, width * i + 1):\n",
        "        print(f'{j:>{len(str(height * width))}}', end=' ')\n",
        "        if j == width * i:\n",
        "            print()"
      ],
      "metadata": {
        "id": "bQYJ7tMazr0p"
      },
      "execution_count": null,
      "outputs": []
    },
    {
      "cell_type": "markdown",
      "source": [
        "**M. Числовой прямоугольник 2.0**"
      ],
      "metadata": {
        "id": "u2lhFMknztFD"
      }
    },
    {
      "cell_type": "code",
      "source": [
        "n = int(input())\n",
        "m = int(input())\n",
        "w = len(str(n * m))\n",
        "\n",
        "for i in range(1, n + 1):\n",
        "    d = n * (m - 1) + i\n",
        "    for j in range(i, d + 1, n):\n",
        "        if j != d:\n",
        "            print(str(j).rjust(w, ' '), end=' ')\n",
        "        else:\n",
        "            print(str(j).rjust(w, ' '))"
      ],
      "metadata": {
        "id": "O0IOeZquzuD8"
      },
      "execution_count": null,
      "outputs": []
    },
    {
      "cell_type": "markdown",
      "source": [
        "**N. Числовая змейка**"
      ],
      "metadata": {
        "id": "xaT8BsMrzyUC"
      }
    },
    {
      "cell_type": "code",
      "source": [
        "n = int(input())\n",
        "m = int(input())\n",
        "\n",
        "width = len(str(n * m))\n",
        "\n",
        "for i in range(n):\n",
        "    for j in range(m):\n",
        "        if (i % 2) != 0:\n",
        "            current_num = (i + 1) * m - j\n",
        "            print(f'{current_num:>{width}}', end=' ')\n",
        "        else:\n",
        "            current_num = i * m + j + 1\n",
        "            print(f'{current_num:>{width}}', end=' ')\n",
        "    print()"
      ],
      "metadata": {
        "id": "tn2mxHfkz0nb"
      },
      "execution_count": null,
      "outputs": []
    },
    {
      "cell_type": "markdown",
      "source": [
        "**O. Числовая змейка 2.0**"
      ],
      "metadata": {
        "id": "-BPgcd7gz1ie"
      }
    },
    {
      "cell_type": "code",
      "source": [
        "n = int(input())\n",
        "m = int(input())\n",
        "\n",
        "width = len(str(n * m))\n",
        "\n",
        "for i in range(n):\n",
        "    for j in range(m):\n",
        "        if (j % 2) != 0:\n",
        "            current_num = (j + 1) * n - i\n",
        "        else:\n",
        "            current_num = j * n + i + 1\n",
        "\n",
        "        print(f'{current_num:>{width}}', end=' ')\n",
        "    print()"
      ],
      "metadata": {
        "id": "bw5QJeaDz3os"
      },
      "execution_count": null,
      "outputs": []
    },
    {
      "cell_type": "markdown",
      "source": [
        "**P. Редизайн таблицы умножения**"
      ],
      "metadata": {
        "id": "2FCIj0CPz4r8"
      }
    },
    {
      "cell_type": "code",
      "source": [
        "lines = int(input())\n",
        "width = int(input())\n",
        "\n",
        "str_lenght = width * lines + (lines - 1)\n",
        "\n",
        "for i in range(lines):\n",
        "    for j in range(lines):\n",
        "        print(f'{((i + 1) * (j + 1)): ^{width}}', end='')\n",
        "        if j != lines - 1:\n",
        "            print('|', end='')\n",
        "        else:\n",
        "            print()\n",
        "    if i + 1 != lines:\n",
        "        print('-' * str_lenght)"
      ],
      "metadata": {
        "id": "dtXDEYQHz6x9"
      },
      "execution_count": null,
      "outputs": []
    },
    {
      "cell_type": "markdown",
      "source": [
        "**Q. А роза упала на лапу Азора 3.0**"
      ],
      "metadata": {
        "id": "ImXW7OkEz8Q5"
      }
    },
    {
      "cell_type": "code",
      "source": [
        "counter = 0\n",
        "for i in range(int(input())):\n",
        "    num = str(input())\n",
        "    if num == num[::-1]:\n",
        "        counter += 1\n",
        "\n",
        "print(counter)"
      ],
      "metadata": {
        "id": "w_t3-Szjz_dt"
      },
      "execution_count": null,
      "outputs": []
    },
    {
      "cell_type": "markdown",
      "source": [
        "**R. Новогоднее настроение 2.0**"
      ],
      "metadata": {
        "id": "YHPL2XhX0AhO"
      }
    },
    {
      "cell_type": "code",
      "source": [
        "num = int(input())\n",
        "\n",
        "cur_num, width = 0, 1\n",
        "max_len = 0\n",
        "\n",
        "while cur_num <= num:\n",
        "    str_len = 0\n",
        "    for pos in range(width):\n",
        "        cur_num += 1\n",
        "        if cur_num <= num:\n",
        "            str_len += len(str(cur_num))\n",
        "        if pos < width - 1 and cur_num < num:\n",
        "            str_len += 1\n",
        "\n",
        "    if max_len < str_len:\n",
        "        max_len = str_len\n",
        "\n",
        "    width += 1\n",
        "\n",
        "cur_num, width = 0, 1\n",
        "\n",
        "while cur_num <= num:\n",
        "    line = ''\n",
        "    for pos in range(width):\n",
        "        cur_num += 1\n",
        "        if cur_num <= num:\n",
        "            line += str(cur_num)\n",
        "        if num > cur_num and pos < width - 1:\n",
        "            line += ' '\n",
        "    width += 1\n",
        "    print(f'{line:^{max_len}}')"
      ],
      "metadata": {
        "id": "W3GKIHhj0C6t"
      },
      "execution_count": null,
      "outputs": []
    },
    {
      "cell_type": "markdown",
      "source": [
        "**S. Числовой квадрат**"
      ],
      "metadata": {
        "id": "Vs7AfrP90DMS"
      }
    },
    {
      "cell_type": "code",
      "source": [
        "s = int(input())\n",
        "\n",
        "width = len(str((s + 1) // 2))\n",
        "\n",
        "for i in range(s):\n",
        "    for j in range(s):\n",
        "        num = min(i + 1, j + 1, s - i, s - j)\n",
        "        print(f'{num:>{width}}', end=' ')\n",
        "    print()"
      ],
      "metadata": {
        "id": "wXaogOcq0GGD"
      },
      "execution_count": null,
      "outputs": []
    },
    {
      "cell_type": "markdown",
      "source": [
        "**T. Математическая выгода**"
      ],
      "metadata": {
        "id": "hdw_cP_C0JTQ"
      }
    },
    {
      "cell_type": "code",
      "source": [
        "number = int(input())\n",
        "\n",
        "best_val, best_base = 0, 0\n",
        "\n",
        "for base in range(10, 1, -1):\n",
        "    total = 0\n",
        "    current_num = number\n",
        "    while current_num > 0:\n",
        "        total += (current_num % base)\n",
        "        current_num = current_num // base\n",
        "    if total >= best_val:\n",
        "        best_val = total\n",
        "        best_base = base\n",
        "\n",
        "print(best_base)"
      ],
      "metadata": {
        "id": "Fe2qqXux0Kp-"
      },
      "execution_count": null,
      "outputs": []
    }
  ]
}