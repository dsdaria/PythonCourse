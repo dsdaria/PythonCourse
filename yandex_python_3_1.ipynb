{
  "nbformat": 4,
  "nbformat_minor": 0,
  "metadata": {
    "colab": {
      "provenance": []
    },
    "kernelspec": {
      "name": "python3",
      "display_name": "Python 3"
    },
    "language_info": {
      "name": "python"
    }
  },
  "cells": [
    {
      "cell_type": "markdown",
      "source": [
        "**3.1.\n",
        "Строки, кортежи, списки**"
      ],
      "metadata": {
        "id": "ERSllmecywNA"
      }
    },
    {
      "cell_type": "markdown",
      "source": [
        "**A. Азбука**"
      ],
      "metadata": {
        "id": "mOIZuNGIyxUL"
      }
    },
    {
      "cell_type": "code",
      "execution_count": null,
      "metadata": {
        "id": "jstd-5E7yrDd"
      },
      "outputs": [],
      "source": [
        "n = int(input())\n",
        "for i in range(n):\n",
        "    inp = input()\n",
        "    if inp[0] not in \"абв\":\n",
        "        print(\"NO\")\n",
        "        break\n",
        "else:\n",
        "    print(\"YES\")"
      ]
    },
    {
      "cell_type": "markdown",
      "source": [
        "**B. Кручу-верчу**"
      ],
      "metadata": {
        "id": "8ITdxx-wy1b3"
      }
    },
    {
      "cell_type": "code",
      "execution_count": null,
      "metadata": {
        "id": "wNfr-So9y1b3"
      },
      "outputs": [],
      "source": [
        "inp = input()\n",
        "for letter in inp:\n",
        "    print(letter)"
      ]
    },
    {
      "cell_type": "markdown",
      "source": [
        "**C. Анонс новости**"
      ],
      "metadata": {
        "id": "ag0C89zPy8GA"
      }
    },
    {
      "cell_type": "code",
      "source": [
        "L = int(input())\n",
        "for i in range(int(input())):\n",
        "    inp = (input())\n",
        "    if len(inp) > L:\n",
        "        inp = inp[: L - 3].ljust(L, \".\")\n",
        "        print(inp)\n",
        "    else:\n",
        "        print(inp)"
      ],
      "metadata": {
        "id": "xF70_qHJy-gB"
      },
      "execution_count": null,
      "outputs": []
    },
    {
      "cell_type": "markdown",
      "source": [
        "**D. Очистка данных**"
      ],
      "metadata": {
        "id": "oZW4TEIUy_tW"
      }
    },
    {
      "cell_type": "code",
      "source": [
        "while (inp := str(input())) != \"\":\n",
        "    if not inp.endswith(\"@@@\"):\n",
        "        if inp.startswith(\"##\"):\n",
        "            print(inp[2::])\n",
        "        else:\n",
        "            print(inp)"
      ],
      "metadata": {
        "id": "nt7o9OgFzBmj"
      },
      "execution_count": null,
      "outputs": []
    },
    {
      "cell_type": "markdown",
      "source": [
        "**E. А роза упала на лапу Азора 4.0**"
      ],
      "metadata": {
        "id": "JJovsVy5zCxZ"
      }
    },
    {
      "cell_type": "code",
      "source": [
        "inp = (input())\n",
        "if inp == inp[:: -1]:\n",
        "    print(\"YES\")\n",
        "else:\n",
        "    print(\"NO\")"
      ],
      "metadata": {
        "id": "wPlY1Jq1zGpi"
      },
      "execution_count": null,
      "outputs": []
    },
    {
      "cell_type": "markdown",
      "source": [
        "**F. Зайка — 6**"
      ],
      "metadata": {
        "id": "CCg6m0ZIzHXd"
      }
    },
    {
      "cell_type": "code",
      "source": [
        "N = int(input())\n",
        "counter = 0\n",
        "for i in range(N):\n",
        "    inp = str(input())\n",
        "    if 'зайка' in inp:\n",
        "        counter += inp.count('зайка')\n",
        "\n",
        "print(counter)"
      ],
      "metadata": {
        "id": "lrkoYmgUzLXj"
      },
      "execution_count": null,
      "outputs": []
    },
    {
      "cell_type": "markdown",
      "source": [
        "**G. А и Б сидели на трубе**"
      ],
      "metadata": {
        "id": "iwlpyACxzMcy"
      }
    },
    {
      "cell_type": "code",
      "source": [
        "inp = str(input()).split()\n",
        "print(int(inp[0]) + int(inp[1]))"
      ],
      "metadata": {
        "id": "pHsccVOtzO68"
      },
      "execution_count": null,
      "outputs": []
    },
    {
      "cell_type": "markdown",
      "source": [
        "**H. Зайка — 7**"
      ],
      "metadata": {
        "id": "bLkUoGUFzVz0"
      }
    },
    {
      "cell_type": "code",
      "source": [
        "N = int(input())\n",
        "\n",
        "for i in range(N):\n",
        "    inp = str(input())\n",
        "    if 'зайка' in inp:\n",
        "        print(inp.find('зайка') + 1)\n",
        "    else:\n",
        "        print(\"Заек нет =(\")"
      ],
      "metadata": {
        "id": "lEUE9E3jzWym"
      },
      "execution_count": null,
      "outputs": []
    },
    {
      "cell_type": "markdown",
      "source": [
        "**I. Без комментариев**"
      ],
      "metadata": {
        "id": "uiSVFb4hzcuy"
      }
    },
    {
      "cell_type": "code",
      "source": [
        "while (inp := input()) != '':\n",
        "    if inp.startswith(\"#\"):\n",
        "        continue\n",
        "    if \"#\" in inp:\n",
        "        inp = inp[:inp.find(\"#\")]\n",
        "    print(inp)"
      ],
      "metadata": {
        "id": "yFdIVkFwzetJ"
      },
      "execution_count": null,
      "outputs": []
    },
    {
      "cell_type": "markdown",
      "source": [
        "**J. Частотный анализ на минималках**"
      ],
      "metadata": {
        "id": "lZY_WBuRziuZ"
      }
    },
    {
      "cell_type": "code",
      "source": [
        "data = ''\n",
        "\n",
        "while (inp := input()) != \"ФИНИШ\":\n",
        "    inp = inp.lower()\n",
        "    data += inp\n",
        "\n",
        "data = data.replace(' ', '')\n",
        "\n",
        "num, elem = 0, ''\n",
        "for i in data:\n",
        "    counter = data.count(i)\n",
        "    if counter > num:\n",
        "        num = counter\n",
        "        elem = i\n",
        "    elif counter == num:\n",
        "        if i < elem:\n",
        "            elem = i\n",
        "\n",
        "print(elem)"
      ],
      "metadata": {
        "id": "SEx2nipWzlns"
      },
      "execution_count": null,
      "outputs": []
    },
    {
      "cell_type": "markdown",
      "source": [
        "**K. Найдётся всё**"
      ],
      "metadata": {
        "id": "ZPYgcklSznAn"
      }
    },
    {
      "cell_type": "code",
      "source": [
        "N = int(input())\n",
        "data = []\n",
        "for i in range(N):\n",
        "    data.append(str(input()))\n",
        "\n",
        "key = str(input())\n",
        "\n",
        "for i in range(len(data)):\n",
        "    if key.lower() in data[i].lower():\n",
        "        print(data[i])"
      ],
      "metadata": {
        "id": "5Rykp7rIzo4o"
      },
      "execution_count": null,
      "outputs": []
    },
    {
      "cell_type": "markdown",
      "source": [
        "**L. Меню питания**"
      ],
      "metadata": {
        "id": "PQCTnw6DzpzG"
      }
    },
    {
      "cell_type": "code",
      "source": [
        "menu = [\"Манная\", \"Гречневая\", \"Пшённая\", \"Овсяная\", \"Рисовая\"]\n",
        "N = int(input())\n",
        "\n",
        "cur_menu = menu * N\n",
        "cur_menu = cur_menu[:N]\n",
        "for i in cur_menu:\n",
        "    print(i)"
      ],
      "metadata": {
        "id": "bQYJ7tMazr0p"
      },
      "execution_count": null,
      "outputs": []
    },
    {
      "cell_type": "markdown",
      "source": [
        "**M. Массовое возведение в степень**"
      ],
      "metadata": {
        "id": "u2lhFMknztFD"
      }
    },
    {
      "cell_type": "code",
      "source": [
        "N = int(input())\n",
        "nums = []\n",
        "for i in range(N):\n",
        "    nums.append(int(input()))\n",
        "\n",
        "deg = int(input())\n",
        "\n",
        "for i in range(N):\n",
        "    print(nums[i] ** deg)"
      ],
      "metadata": {
        "id": "O0IOeZquzuD8"
      },
      "execution_count": null,
      "outputs": []
    },
    {
      "cell_type": "markdown",
      "source": [
        "**N. Массовое возведение в степень 2.0**"
      ],
      "metadata": {
        "id": "xaT8BsMrzyUC"
      }
    },
    {
      "cell_type": "code",
      "source": [
        "nums = input().split()\n",
        "deg = int(input())\n",
        "\n",
        "for i in range(len(nums)):\n",
        "    print(int(nums[i]) ** deg, end=\" \")"
      ],
      "metadata": {
        "id": "tn2mxHfkz0nb"
      },
      "execution_count": null,
      "outputs": []
    },
    {
      "cell_type": "markdown",
      "source": [
        "**O. НОД 3.0**"
      ],
      "metadata": {
        "id": "-BPgcd7gz1ie"
      }
    },
    {
      "cell_type": "code",
      "source": [
        "numbers = list(map(int, input().split()))\n",
        "\n",
        "first = numbers[0]\n",
        "while len(numbers) > 1:\n",
        "    second = numbers[1]\n",
        "    while second != 0:\n",
        "        first, second = second, first % second\n",
        "    numbers.pop()\n",
        "\n",
        "\n",
        "print(first)"
      ],
      "metadata": {
        "id": "bw5QJeaDz3os"
      },
      "execution_count": null,
      "outputs": []
    },
    {
      "cell_type": "markdown",
      "source": [
        "**P. Анонс новости 2.0**"
      ],
      "metadata": {
        "id": "2FCIj0CPz4r8"
      }
    },
    {
      "cell_type": "code",
      "source": [
        "length = int(input())\n",
        "data = []\n",
        "\n",
        "for i in range(int(input())):\n",
        "    data.append(input())\n",
        "\n",
        "for i in data:\n",
        "    if length > 3:\n",
        "        if len(i) >= length - 3:\n",
        "            print(i[:length - 3] + \"...\")\n",
        "        else:\n",
        "            if length == 4:\n",
        "                print(i + \"...\")\n",
        "            else:\n",
        "                print(i)\n",
        "        length -= len(i)"
      ],
      "metadata": {
        "id": "dtXDEYQHz6x9"
      },
      "execution_count": null,
      "outputs": []
    },
    {
      "cell_type": "markdown",
      "source": [
        "**Q. А роза упала на лапу Азора 5.0**"
      ],
      "metadata": {
        "id": "ImXW7OkEz8Q5"
      }
    },
    {
      "cell_type": "code",
      "source": [
        "inp = input().split()\n",
        "data = \"\".join(inp).lower()\n",
        "data_res = data[::-1]\n",
        "\n",
        "if data == data_res:\n",
        "    print(\"YES\")\n",
        "else:\n",
        "    print(\"NO\")"
      ],
      "metadata": {
        "id": "w_t3-Szjz_dt"
      },
      "execution_count": null,
      "outputs": []
    },
    {
      "cell_type": "markdown",
      "source": [
        "**R. RLE**"
      ],
      "metadata": {
        "id": "YHPL2XhX0AhO"
      }
    },
    {
      "cell_type": "code",
      "source": [
        "inp = str(input())\n",
        "\n",
        "elem, count = inp[0], 1\n",
        "\n",
        "for i in inp[1::]:\n",
        "    if i == elem:\n",
        "        count += 1\n",
        "    else:\n",
        "        print(elem, count)\n",
        "        elem, count = i, 1\n",
        "\n",
        "print(elem, count)"
      ],
      "metadata": {
        "id": "W3GKIHhj0C6t"
      },
      "execution_count": null,
      "outputs": []
    },
    {
      "cell_type": "markdown",
      "source": [
        "**S. Польский калькулятор**"
      ],
      "metadata": {
        "id": "Vs7AfrP90DMS"
      }
    },
    {
      "cell_type": "code",
      "source": [
        "data = list(input().split())\n",
        "result = [int(data[0])]\n",
        "\n",
        "for i in data[1:]:\n",
        "    if i.isdigit():\n",
        "        result.append(int(i))\n",
        "    else:\n",
        "        a = result.pop()\n",
        "        exec(\"result[-1] \" + i + \"= a\")\n",
        "print(result[0])"
      ],
      "metadata": {
        "id": "wXaogOcq0GGD"
      },
      "execution_count": null,
      "outputs": []
    },
    {
      "cell_type": "markdown",
      "source": [
        "**T. Польский калькулятор — 2**"
      ],
      "metadata": {
        "id": "hdw_cP_C0JTQ"
      }
    },
    {
      "cell_type": "code",
      "source": [
        "def factorial(n):\n",
        "    if n > 1:\n",
        "        return n * factorial(n - 1)\n",
        "    else:\n",
        "        return 1\n",
        "\n",
        "\n",
        "inp = list(input().split())\n",
        "result = [int(inp[0])]\n",
        "\n",
        "\n",
        "for i in inp[1:]:\n",
        "    if i.isdigit():\n",
        "        result.append(int(i))\n",
        "    elif i == \"~\":\n",
        "        result[-1] = -result[-1]\n",
        "    elif i == \"#\":\n",
        "        result.append(result[-1])\n",
        "    elif i == \"!\":\n",
        "        result[-1] = factorial(result[-1])\n",
        "    elif i == \"@\":\n",
        "        result.append(result.pop(-3))\n",
        "    elif i == \"/\":\n",
        "        a = result.pop()\n",
        "        result[-1] //= a\n",
        "    else:\n",
        "        data = result.pop()\n",
        "        exec(\"result[-1] \" + i + \"= data\")\n",
        "\n",
        "print(result[0])"
      ],
      "metadata": {
        "id": "Fe2qqXux0Kp-"
      },
      "execution_count": null,
      "outputs": []
    }
  ]
}