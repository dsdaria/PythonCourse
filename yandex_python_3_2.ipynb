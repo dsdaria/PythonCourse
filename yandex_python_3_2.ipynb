{
  "nbformat": 4,
  "nbformat_minor": 0,
  "metadata": {
    "colab": {
      "provenance": []
    },
    "kernelspec": {
      "name": "python3",
      "display_name": "Python 3"
    },
    "language_info": {
      "name": "python"
    }
  },
  "cells": [
    {
      "cell_type": "markdown",
      "source": [
        "**3.2.\n",
        "Множества, словарии**"
      ],
      "metadata": {
        "id": "ERSllmecywNA"
      }
    },
    {
      "cell_type": "markdown",
      "source": [
        "**A. Символическая выжимка**"
      ],
      "metadata": {
        "id": "mOIZuNGIyxUL"
      }
    },
    {
      "cell_type": "code",
      "execution_count": null,
      "metadata": {
        "id": "jstd-5E7yrDd"
      },
      "outputs": [],
      "source": [
        "inp = str(input())\n",
        "strs = ''.join(set(inp))\n",
        "print(strs)"
      ]
    },
    {
      "cell_type": "markdown",
      "source": [
        "**B. Символическая разница**"
      ],
      "metadata": {
        "id": "8ITdxx-wy1b3"
      }
    },
    {
      "cell_type": "code",
      "execution_count": null,
      "metadata": {
        "id": "wNfr-So9y1b3"
      },
      "outputs": [],
      "source": [
        "s_1 = set(input())\n",
        "s_2 = set(input())\n",
        "strs = ''.join(s_1 & s_2)\n",
        "print(strs)"
      ]
    },
    {
      "cell_type": "markdown",
      "source": [
        "**C. Зайка — 8**"
      ],
      "metadata": {
        "id": "ag0C89zPy8GA"
      }
    },
    {
      "cell_type": "code",
      "source": [
        "N = int(input())\n",
        "area = set()\n",
        "for i in range(N):\n",
        "    inp = set(str(input()).split())\n",
        "    area = area | inp\n",
        "\n",
        "for i in area:\n",
        "    print(i)"
      ],
      "metadata": {
        "id": "xF70_qHJy-gB"
      },
      "execution_count": null,
      "outputs": []
    },
    {
      "cell_type": "markdown",
      "source": [
        "**D. Кашееды**"
      ],
      "metadata": {
        "id": "oZW4TEIUy_tW"
      }
    },
    {
      "cell_type": "code",
      "source": [
        "n = int(input())\n",
        "m = int(input())\n",
        "surnames = []\n",
        "for i in range(n + m):\n",
        "    surnames.append(str(input()))\n",
        "\n",
        "type_1 = set(surnames[:n])\n",
        "type_2 = set(surnames[n:])\n",
        "\n",
        "common = type_1 & type_2\n",
        "\n",
        "if len(common) == 0:\n",
        "    print(\"Таких нет\")\n",
        "else:\n",
        "    print(len(common))"
      ],
      "metadata": {
        "id": "nt7o9OgFzBmj"
      },
      "execution_count": null,
      "outputs": []
    },
    {
      "cell_type": "markdown",
      "source": [
        "**E. Кашееды — 2**"
      ],
      "metadata": {
        "id": "JJovsVy5zCxZ"
      }
    },
    {
      "cell_type": "code",
      "source": [
        "n, m = int(input()), int(input())\n",
        "\n",
        "g1 = set()\n",
        "g2 = set()\n",
        "\n",
        "for _ in range(n + m):\n",
        "    if (name := input()) in g1:\n",
        "        g2.add(name)\n",
        "    else:\n",
        "        g1.add(name)\n",
        "\n",
        "if len(junction := (g1 ^ g2)) == 0:\n",
        "    print('Таких нет')\n",
        "else:\n",
        "    print(len(junction))"
      ],
      "metadata": {
        "id": "wPlY1Jq1zGpi"
      },
      "execution_count": null,
      "outputs": []
    },
    {
      "cell_type": "markdown",
      "source": [
        "**F. Кашееды — 3**"
      ],
      "metadata": {
        "id": "CCg6m0ZIzHXd"
      }
    },
    {
      "cell_type": "code",
      "source": [
        "n, m = int(input()), int(input())\n",
        "\n",
        "g1, g2 = set(), set()\n",
        "\n",
        "for _ in range(n + m):\n",
        "    if (name := input()) in g1:\n",
        "        g2.add(name)\n",
        "    else:\n",
        "        g1.add(name)\n",
        "\n",
        "junction = (g1 ^ g2)\n",
        "sorted_junction = sorted(junction)\n",
        "\n",
        "if len(junction) != 0:\n",
        "    for surname in sorted_junction:\n",
        "        print(surname)\n",
        "else:\n",
        "    print(\"Таких нет\")"
      ],
      "metadata": {
        "id": "lrkoYmgUzLXj"
      },
      "execution_count": null,
      "outputs": []
    },
    {
      "cell_type": "markdown",
      "source": [
        "**G. Азбука Морзе**"
      ],
      "metadata": {
        "id": "iwlpyACxzMcy"
      }
    },
    {
      "cell_type": "code",
      "source": [
        "MORSE = {\n",
        "    'A': '.-', 'B': '-...', 'C': '-.-.',\n",
        "    'D': '-..', 'E': '.', 'F': '..-.',\n",
        "    'G': '--.', 'H': '....', 'I': '..',\n",
        "    'J': '.---', 'K': '-.-', 'L': '.-..',\n",
        "    'M': '--', 'N': '-.', 'O': '---',\n",
        "    'P': '.--.', 'Q': '--.-', 'R': '.-.',\n",
        "    'S': '...', 'T': '-', 'U': '..-',\n",
        "    'V': '...-', 'W': '.--', 'X': '-..-',\n",
        "    'Y': '-.--', 'Z': '--..',\n",
        "    '0': '-----', '1': '.----', '2': '..---',\n",
        "    '3': '...--', '4': '....-', '5': '.....',\n",
        "    '6': '-....', '7': '--...', '8': '---..',\n",
        "    '9': '----.', ' ': ' ',\n",
        "}\n",
        "\n",
        "\n",
        "for i in range(len(inp := (str(input()).split()))):\n",
        "    token = inp[i].upper()\n",
        "    for j in range(len(token)):\n",
        "        print(MORSE[token[j]], end=\" \")\n",
        "    print(\"\")"
      ],
      "metadata": {
        "id": "pHsccVOtzO68"
      },
      "execution_count": null,
      "outputs": []
    },
    {
      "cell_type": "markdown",
      "source": [
        "**H. Кашееды — 4**"
      ],
      "metadata": {
        "id": "bLkUoGUFzVz0"
      }
    },
    {
      "cell_type": "code",
      "source": [
        "num = int(input())\n",
        "data = []\n",
        "\n",
        "for i in range(num):\n",
        "    data.extend([input().split()])\n",
        "data.sort()\n",
        "\n",
        "key = input()\n",
        "counter = 0\n",
        "\n",
        "\n",
        "for kid in data:\n",
        "    if key in kid[1:]:\n",
        "        print(kid[0])\n",
        "        counter += 1\n",
        "\n",
        "if counter == 0:\n",
        "    print('Таких нет')"
      ],
      "metadata": {
        "id": "lEUE9E3jzWym"
      },
      "execution_count": null,
      "outputs": []
    },
    {
      "cell_type": "markdown",
      "source": [
        "**I. Зайка — 9**"
      ],
      "metadata": {
        "id": "uiSVFb4hzcuy"
      }
    },
    {
      "cell_type": "code",
      "source": [
        "d = dict()\n",
        "\n",
        "while (inp := input()) != '':\n",
        "    local_data = inp.split()\n",
        "    for i in local_data:\n",
        "        if i in d:\n",
        "            d[i] += 1\n",
        "        else:\n",
        "            d[i] = 1\n",
        "\n",
        "for i in d:\n",
        "    print(i, d[i])"
      ],
      "metadata": {
        "id": "yFdIVkFwzetJ"
      },
      "execution_count": null,
      "outputs": []
    },
    {
      "cell_type": "markdown",
      "source": [
        "**J. Транслитерация**"
      ],
      "metadata": {
        "id": "lZY_WBuRziuZ"
      }
    },
    {
      "cell_type": "code",
      "source": [
        "DICT = {\n",
        "    'А': 'A', 'Б': 'B', 'В': 'V',\n",
        "    'Г': 'G', 'Д': 'D', 'Е': 'E',\n",
        "    'Ё': 'E', 'Ж': 'ZH', 'З': 'Z',\n",
        "    'И': 'I', 'Й': 'I', 'К': 'K',\n",
        "    'Л': 'L', 'М': 'M', 'Н': 'N',\n",
        "    'О': 'O', 'П': 'P', 'Р': 'R',\n",
        "    'С': 'S', 'Т': 'T', 'У': 'U',\n",
        "    'Ф': 'F', 'Х': 'KH', 'Ц': 'TC',\n",
        "    'Ч': 'CH', 'Ш': 'SH', 'Щ': 'SHCH',\n",
        "    'Ы': 'Y', 'Э': 'E', 'Ю': 'IU',\n",
        "    'Я': 'IA', 'Ь': '', 'Ъ': '',\n",
        "}\n",
        "\n",
        "inp = input()\n",
        "for i in inp:\n",
        "    if i.upper() in DICT:\n",
        "        if i == i.upper():\n",
        "            print(DICT[i.upper()].lower().capitalize(), end='')\n",
        "        else:\n",
        "            print(DICT[i.upper()].lower(), end='')\n",
        "    else:\n",
        "        print(i, end='')\n"
      ],
      "metadata": {
        "id": "SEx2nipWzlns"
      },
      "execution_count": null,
      "outputs": []
    },
    {
      "cell_type": "markdown",
      "source": [
        "**K. Однофамильцы**"
      ],
      "metadata": {
        "id": "ZPYgcklSznAn"
      }
    },
    {
      "cell_type": "code",
      "source": [
        "one, two = set(), set()\n",
        "counter = 0\n",
        "for _ in range(N := int(input())):\n",
        "    if (surname := input()) in one:\n",
        "        two.add(surname)\n",
        "        counter += 1\n",
        "    else:\n",
        "        one.add(surname)\n",
        "\n",
        "counter += len(two)\n",
        "print(counter)"
      ],
      "metadata": {
        "id": "5Rykp7rIzo4o"
      },
      "execution_count": null,
      "outputs": []
    },
    {
      "cell_type": "markdown",
      "source": [
        "**L. Однофамильцы — 2**"
      ],
      "metadata": {
        "id": "PQCTnw6DzpzG"
      }
    },
    {
      "cell_type": "code",
      "source": [
        "data = []\n",
        "for i in range(int(input())):\n",
        "    data.append(input())\n",
        "\n",
        "res_data = []\n",
        "\n",
        "for i in set(data):\n",
        "    if data.count(i) > 1:\n",
        "        res_data.append(i + ' - ' + str(data.count(i)))\n",
        "\n",
        "if res_data:\n",
        "    for x in sorted(res_data):\n",
        "        print(x)\n",
        "else:\n",
        "    print('Однофамильцев нет')"
      ],
      "metadata": {
        "id": "bQYJ7tMazr0p"
      },
      "execution_count": null,
      "outputs": []
    },
    {
      "cell_type": "markdown",
      "source": [
        "**M. Дайте чего-нибудь новенького!**"
      ],
      "metadata": {
        "id": "u2lhFMknztFD"
      }
    },
    {
      "cell_type": "code",
      "source": [
        "porridge_data = set()\n",
        "\n",
        "for i in range(int(input())):\n",
        "    current_porridge = input()\n",
        "    if current_porridge not in porridge_data:\n",
        "        porridge_data.add(current_porridge)\n",
        "\n",
        "\n",
        "for i in range(int(input())):\n",
        "    for j in range(int(input())):\n",
        "        current_porridge = input()\n",
        "        if current_porridge in porridge_data:\n",
        "            porridge_data.remove(current_porridge)\n",
        "\n",
        "menu = sorted(porridge_data)\n",
        "\n",
        "if len(menu) == 0:\n",
        "    print('Готовить нечего')\n",
        "else:\n",
        "    for item in menu:\n",
        "        print(item)"
      ],
      "metadata": {
        "id": "O0IOeZquzuD8"
      },
      "execution_count": null,
      "outputs": []
    },
    {
      "cell_type": "markdown",
      "source": [
        "**N. Это будет шедевр!**"
      ],
      "metadata": {
        "id": "xaT8BsMrzyUC"
      }
    },
    {
      "cell_type": "code",
      "source": [
        "all_products = []\n",
        "\n",
        "num_products = int(input())\n",
        "for i in range(num_products):\n",
        "    all_products.append(input())\n",
        "\n",
        "recipes = {}\n",
        "menu = []\n",
        "\n",
        "num_recipes = int(input())\n",
        "for i in range(num_recipes):\n",
        "    item = input()\n",
        "    cur_ingredients = []\n",
        "    for j in range(int(input())):\n",
        "        cur_ingredients.append(input())\n",
        "    recipes[item] = recipes.get(item, []) + cur_ingredients\n",
        "\n",
        "\n",
        "for item in recipes:\n",
        "    if (set(all_products) & set(recipes[item])) == set(recipes[item]):\n",
        "        menu.append(item)\n",
        "\n",
        "if menu:\n",
        "    menu = sorted(menu)\n",
        "    for product in menu:\n",
        "        print(product)\n",
        "else:\n",
        "    print('Готовить нечего')"
      ],
      "metadata": {
        "id": "tn2mxHfkz0nb"
      },
      "execution_count": null,
      "outputs": []
    },
    {
      "cell_type": "markdown",
      "source": [
        "**O. Двоичная статистика!**"
      ],
      "metadata": {
        "id": "-BPgcd7gz1ie"
      }
    },
    {
      "cell_type": "code",
      "source": [
        "inp_nums = [int(i) for i in input().split()]\n",
        "result = []\n",
        "local = dict()\n",
        "\n",
        "for num in inp_nums:\n",
        "    units, zeros = 0, 0\n",
        "    while num > 0:\n",
        "        if num % 2 != 0:\n",
        "            units += 1\n",
        "        else:\n",
        "            zeros += 1\n",
        "        num //= 2\n",
        "\n",
        "    local['digits'] = zeros + units\n",
        "    local['units'] = units\n",
        "    local['zeros'] = zeros\n",
        "    result.append(local.copy())\n",
        "\n",
        "print(result)"
      ],
      "metadata": {
        "id": "bw5QJeaDz3os"
      },
      "execution_count": null,
      "outputs": []
    },
    {
      "cell_type": "markdown",
      "source": [
        "**P. Зайка — 10**"
      ],
      "metadata": {
        "id": "2FCIj0CPz4r8"
      }
    },
    {
      "cell_type": "code",
      "source": [
        "hare = 'зайка'\n",
        "animals = set()\n",
        "\n",
        "while (area := input().split()) != []:\n",
        "    seen_animal = None\n",
        "    for animal in area:\n",
        "        if seen_animal == hare:\n",
        "            animals.add(animal)\n",
        "        if animal == hare:\n",
        "            if seen_animal:\n",
        "                animals.add(seen_animal)\n",
        "        seen_animal = animal\n",
        "\n",
        "for i in animals:\n",
        "    print(i)"
      ],
      "metadata": {
        "id": "dtXDEYQHz6x9"
      },
      "execution_count": null,
      "outputs": []
    },
    {
      "cell_type": "markdown",
      "source": [
        "**Q. Друзья друзей**"
      ],
      "metadata": {
        "id": "ImXW7OkEz8Q5"
      }
    },
    {
      "cell_type": "code",
      "source": [
        "friend_data = {}\n",
        "friends_of_friends = {}\n",
        "\n",
        "\n",
        "while inp_pair := input():\n",
        "    fr1, fr2 = inp_pair.split()\n",
        "    friend_data[fr1] = friend_data.get(fr1, set()) | set([fr2])\n",
        "    friend_data[fr2] = friend_data.get(fr2, set()) | set([fr1])\n",
        "\n",
        "\n",
        "for name in sorted(friend_data):\n",
        "    for person in friend_data[name]:\n",
        "        friends_of_friends[name] = friends_of_friends.get(name, set()) | friend_data[person]\n",
        "\n",
        "for person in friends_of_friends:\n",
        "    friends_of_friends[person].discard(person)\n",
        "    friends_of_friends[person] -= friend_data[person]\n",
        "    friends_of_friends[person] = sorted(friends_of_friends[person])\n",
        "    print(f'{person}: {\", \".join(friends_of_friends[person])}')\n"
      ],
      "metadata": {
        "id": "w_t3-Szjz_dt"
      },
      "execution_count": null,
      "outputs": []
    },
    {
      "cell_type": "markdown",
      "source": [
        "**R. Карта сокровищ**"
      ],
      "metadata": {
        "id": "YHPL2XhX0AhO"
      }
    },
    {
      "cell_type": "code",
      "source": [
        "coords = dict()\n",
        "\n",
        "num = int(input())\n",
        "for i in range(num):\n",
        "    data = [int(i) for i in input().split()]\n",
        "    index = (data[0] // 10, data[1] // 10)\n",
        "    coords[index] = coords.get(index, 0) + 1\n",
        "\n",
        "print(max(coords.values()))"
      ],
      "metadata": {
        "id": "W3GKIHhj0C6t"
      },
      "execution_count": null,
      "outputs": []
    },
    {
      "cell_type": "markdown",
      "source": [
        "**S. Частная собственность**"
      ],
      "metadata": {
        "id": "Vs7AfrP90DMS"
      }
    },
    {
      "cell_type": "code",
      "source": [
        "toys = []\n",
        "unique_toys = []\n",
        "\n",
        "for i in range(num_of_children := int(input())):\n",
        "    name, local_toys = input().split(': ')\n",
        "    toys.extend(set(local_toys.split(', ')))\n",
        "\n",
        "\n",
        "for i in range(len(toys)):\n",
        "    if toys.count(toys[i]) == 1:\n",
        "        unique_toys.append(toys[i])\n",
        "\n",
        "\n",
        "unique_toys.sort()\n",
        "for i in unique_toys:\n",
        "    print(i, end='\\n')"
      ],
      "metadata": {
        "id": "wXaogOcq0GGD"
      },
      "execution_count": null,
      "outputs": []
    },
    {
      "cell_type": "markdown",
      "source": [
        "**T. Простая задача 4.0**"
      ],
      "metadata": {
        "id": "hdw_cP_C0JTQ"
      }
    },
    {
      "cell_type": "code",
      "source": [
        "data = sorted(set([int(num) for num in list(set(input().split('; ')))]))\n",
        "\n",
        "for n1 in data:\n",
        "    lst = []\n",
        "    for n2 in data:\n",
        "        if n1 - n2 != 0:\n",
        "            a, b = n1, n2\n",
        "            while b != 0:\n",
        "                a, b = b, a % b\n",
        "            if a == 1:\n",
        "                lst.append(str(n2))\n",
        "    if len(lst) != 0:\n",
        "        print(n1, '-', \", \".join(lst))"
      ],
      "metadata": {
        "id": "Fe2qqXux0Kp-"
      },
      "execution_count": null,
      "outputs": []
    }
  ]
}