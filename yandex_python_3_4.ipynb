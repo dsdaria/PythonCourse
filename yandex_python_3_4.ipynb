{
  "nbformat": 4,
  "nbformat_minor": 0,
  "metadata": {
    "colab": {
      "provenance": []
    },
    "kernelspec": {
      "name": "python3",
      "display_name": "Python 3"
    },
    "language_info": {
      "name": "python"
    }
  },
  "cells": [
    {
      "cell_type": "markdown",
      "source": [
        "**3.4.\n",
        "Встроенные возможности по работе с коллекциями**"
      ],
      "metadata": {
        "id": "ERSllmecywNA"
      }
    },
    {
      "cell_type": "markdown",
      "source": [
        "**A. Автоматизация списка**"
      ],
      "metadata": {
        "id": "mOIZuNGIyxUL"
      }
    },
    {
      "cell_type": "code",
      "execution_count": null,
      "metadata": {
        "id": "jstd-5E7yrDd"
      },
      "outputs": [],
      "source": [
        "for index, value in enumerate(str(input()).split(), 1):\n",
        "    print(f'{index}. {value}')"
      ]
    },
    {
      "cell_type": "markdown",
      "source": [
        "**B. Сборы на прогулку**"
      ],
      "metadata": {
        "id": "8ITdxx-wy1b3"
      }
    },
    {
      "cell_type": "code",
      "execution_count": null,
      "metadata": {
        "id": "wNfr-So9y1b3"
      },
      "outputs": [],
      "source": [
        "for pair in zip(str(input()).split(', '), str(input()).split(', ')):\n",
        "    print(f'{pair[0]} - {pair[1]}')"
      ]
    },
    {
      "cell_type": "markdown",
      "source": [
        "**C. Рациональная считалочка**"
      ],
      "metadata": {
        "id": "ag0C89zPy8GA"
      }
    },
    {
      "cell_type": "code",
      "source": [
        "from itertools import count\n",
        "\n",
        "a, b, step = map(float, input().split())\n",
        "for value in count(a, step):\n",
        "    if value <= b:\n",
        "        print(round(value, 2))\n",
        "    else:\n",
        "        break"
      ],
      "metadata": {
        "id": "xF70_qHJy-gB"
      },
      "execution_count": null,
      "outputs": []
    },
    {
      "cell_type": "markdown",
      "source": [
        "**D. Словарная ёлка**"
      ],
      "metadata": {
        "id": "oZW4TEIUy_tW"
      }
    },
    {
      "cell_type": "code",
      "source": [
        "for index, word in enumerate(inp := str(input()).split()):\n",
        "    print(\" \".join(inp[:index + 1]))"
      ],
      "metadata": {
        "id": "nt7o9OgFzBmj"
      },
      "execution_count": null,
      "outputs": []
    },
    {
      "cell_type": "markdown",
      "source": [
        "**E. Список покупок**"
      ],
      "metadata": {
        "id": "JJovsVy5zCxZ"
      }
    },
    {
      "cell_type": "code",
      "source": [
        "from itertools import chain\n",
        "\n",
        "inp1 = str(input()).split(\", \")\n",
        "inp2 = str(input()).split(\", \")\n",
        "inp3 = str(input()).split(\", \")\n",
        "\n",
        "for index, value in enumerate(sorted(list(chain(inp1, inp2, inp3))), 1):\n",
        "    print(f'{index}. {value}')"
      ],
      "metadata": {
        "id": "wPlY1Jq1zGpi"
      },
      "execution_count": null,
      "outputs": []
    },
    {
      "cell_type": "markdown",
      "source": [
        "**F. Колода карт**"
      ],
      "metadata": {
        "id": "CCg6m0ZIzHXd"
      }
    },
    {
      "cell_type": "code",
      "source": [
        "from itertools import product\n",
        "\n",
        "suit = ['пик', 'треф', 'бубен', 'червей']\n",
        "nominal = [2, 3, 4, 5, 6, 7, 8, 9, 10, 'валет', 'дама', 'король', 'туз']\n",
        "\n",
        "suit.remove(str(input()))\n",
        "for card in product(nominal, suit):\n",
        "    print(card[0], card[1])"
      ],
      "metadata": {
        "id": "lrkoYmgUzLXj"
      },
      "execution_count": null,
      "outputs": []
    },
    {
      "cell_type": "markdown",
      "source": [
        "**G. Игровая сетка**"
      ],
      "metadata": {
        "id": "iwlpyACxzMcy"
      }
    },
    {
      "cell_type": "code",
      "source": [
        "from itertools import combinations\n",
        "\n",
        "people = [input() for i in range(int(input()))]\n",
        "\n",
        "for pair in list(combinations(people, 2)):\n",
        "    print(f'{pair[0]} - {pair[1]}')"
      ],
      "metadata": {
        "id": "pHsccVOtzO68"
      },
      "execution_count": null,
      "outputs": []
    },
    {
      "cell_type": "markdown",
      "source": [
        "**H. Меню питания 2.0**"
      ],
      "metadata": {
        "id": "bLkUoGUFzVz0"
      }
    },
    {
      "cell_type": "code",
      "source": [
        "from itertools import islice\n",
        "\n",
        "menu = [input() for i in range(int(input()))]\n",
        "stop = int(input())\n",
        "menu = menu * (stop // 2)\n",
        "\n",
        "for index, value in enumerate(list(islice(menu, None, stop)), 1):\n",
        "    print(f'{value}')"
      ],
      "metadata": {
        "id": "lEUE9E3jzWym"
      },
      "execution_count": null,
      "outputs": []
    },
    {
      "cell_type": "markdown",
      "source": [
        "**I. Таблица умножения 3.0**"
      ],
      "metadata": {
        "id": "uiSVFb4hzcuy"
      }
    },
    {
      "cell_type": "code",
      "source": [
        "from itertools import product\n",
        "\n",
        "dim = int(input())\n",
        "\n",
        "for a, b in product(range(1, dim + 1), repeat=2):\n",
        "    print(a * b, end=\" \")\n",
        "    if b == dim:\n",
        "        print()"
      ],
      "metadata": {
        "id": "yFdIVkFwzetJ"
      },
      "execution_count": null,
      "outputs": []
    },
    {
      "cell_type": "markdown",
      "source": [
        "**J. Мы делили апельсин 2.0**"
      ],
      "metadata": {
        "id": "lZY_WBuRziuZ"
      }
    },
    {
      "cell_type": "code",
      "source": [
        "for i in range(1, (oranges := int(input())) - 1):\n",
        "    if i == 1:\n",
        "        print('А Б В')\n",
        "    for j in range(1, oranges - i):\n",
        "        print(f'{i} {j} {oranges - i - j}')"
      ],
      "metadata": {
        "id": "SEx2nipWzlns"
      },
      "execution_count": null,
      "outputs": []
    },
    {
      "cell_type": "markdown",
      "source": [
        "**K. Числовой прямоугольник 3.0**"
      ],
      "metadata": {
        "id": "ZPYgcklSznAn"
      }
    },
    {
      "cell_type": "code",
      "source": [
        "from itertools import product\n",
        "\n",
        "n = int(input())\n",
        "m = int(input())\n",
        "wight = len(str(n * m))\n",
        "\n",
        "\n",
        "for i, j in product(range(1, n + 1), range(1, m + 1)):\n",
        "    if j != m:\n",
        "        print(f'{((i - 1) * m + j):>{wight}}', end=' ')\n",
        "    else:\n",
        "        print(f'{((i - 1) * m + j):>{wight}}', end='\\n')"
      ],
      "metadata": {
        "id": "5Rykp7rIzo4o"
      },
      "execution_count": null,
      "outputs": []
    },
    {
      "cell_type": "markdown",
      "source": [
        "**L. Список покупок 2.0**"
      ],
      "metadata": {
        "id": "PQCTnw6DzpzG"
      }
    },
    {
      "cell_type": "code",
      "source": [
        "from itertools import chain\n",
        "\n",
        "products = []\n",
        "menu = [products.extend(input().split(\", \")) for i in range(int(input()))]\n",
        "\n",
        "for index, value in enumerate(sorted(products), 1):\n",
        "    print(f'{index}. {value}')"
      ],
      "metadata": {
        "id": "bQYJ7tMazr0p"
      },
      "execution_count": null,
      "outputs": []
    },
    {
      "cell_type": "markdown",
      "source": [
        "**M. Расстановка спортсменов**"
      ],
      "metadata": {
        "id": "u2lhFMknztFD"
      }
    },
    {
      "cell_type": "code",
      "source": [
        "from itertools import permutations\n",
        "\n",
        "people = [input() for i in range(int(input()))]\n",
        "\n",
        "for i in sorted(permutations(people)):\n",
        "    print(', '.join(i))"
      ],
      "metadata": {
        "id": "O0IOeZquzuD8"
      },
      "execution_count": null,
      "outputs": []
    },
    {
      "cell_type": "markdown",
      "source": [
        "**N. Спортивные гадания**"
      ],
      "metadata": {
        "id": "xaT8BsMrzyUC"
      }
    },
    {
      "cell_type": "code",
      "source": [
        "from itertools import permutations\n",
        "\n",
        "people = [input() for i in range(int(input()))]\n",
        "\n",
        "for i in sorted(permutations(people, 3)):\n",
        "    print(', '.join(i))"
      ],
      "metadata": {
        "id": "tn2mxHfkz0nb"
      },
      "execution_count": null,
      "outputs": []
    },
    {
      "cell_type": "markdown",
      "source": [
        "**O. Список покупок 3.0**"
      ],
      "metadata": {
        "id": "-BPgcd7gz1ie"
      }
    },
    {
      "cell_type": "code",
      "source": [
        "from itertools import permutations\n",
        "\n",
        "products = []\n",
        "menu = [products.extend(input().split(\", \")) for i in range(int(input()))]\n",
        "\n",
        "for i in sorted(permutations(products, 3)):\n",
        "    print(' '.join(i))"
      ],
      "metadata": {
        "id": "bw5QJeaDz3os"
      },
      "execution_count": null,
      "outputs": []
    },
    {
      "cell_type": "markdown",
      "source": [
        "**P. Расклад таков...**"
      ],
      "metadata": {
        "id": "2FCIj0CPz4r8"
      }
    },
    {
      "cell_type": "code",
      "source": [
        "from itertools import permutations, product, chain\n",
        "\n",
        "suits = {'буби': 'бубен', 'пики': 'пик', 'трефы': 'треф', 'черви': 'червей'}\n",
        "ranks = ['2', '3', '4', '5', '6', '7', '8', '9', '10', 'валет', 'дама', 'король', 'туз']\n",
        "\n",
        "suit, rank = input(), input()\n",
        "\n",
        "ranks.remove(rank)\n",
        "triplets = permutations(product(ranks, suits.values()), 3)\n",
        "sorted_combinations = sorted([i for i in triplets if suits[suit] in chain.from_iterable(i)])\n",
        "\n",
        "for c in sorted_combinations[:10]:\n",
        "    print(', '.join(f'{rank} {suit}' for rank, suit in c))"
      ],
      "metadata": {
        "id": "dtXDEYQHz6x9"
      },
      "execution_count": null,
      "outputs": []
    },
    {
      "cell_type": "markdown",
      "source": [
        "**Q. А есть ещё варианты?**"
      ],
      "metadata": {
        "id": "ImXW7OkEz8Q5"
      }
    },
    {
      "cell_type": "code",
      "source": [
        "from itertools import permutations, product, chain\n",
        "\n",
        "suits = {'буби': 'бубен', 'пики': 'пик', 'трефы': 'треф', 'черви': 'червей'}\n",
        "ranks = ['2', '3', '4', '5', '6', '7', '8', '9', '10', 'валет', 'дама', 'король', 'туз']\n",
        "\n",
        "suit, rank = input(), input()\n",
        "variant = input()\n",
        "\n",
        "flag = False\n",
        "\n",
        "ranks.remove(rank)\n",
        "triplets = combinations(product(ranks, suits.values()), 3)\n",
        "triplets = sorted([i for i in triplets if suits[suit] in list(chain.from_iterable(i))])\n",
        "\n",
        "\n",
        "for item in triplets:\n",
        "    if flag:\n",
        "        print(', '.join(f'{r} {s}' for r, s in item))\n",
        "        break\n",
        "    if ', '.join(f'{r} {s}' for r, s in item) == variant:\n",
        "        flag = True"
      ],
      "metadata": {
        "id": "w_t3-Szjz_dt"
      },
      "execution_count": null,
      "outputs": []
    },
    {
      "cell_type": "markdown",
      "source": [
        "**R. Таблица истинности**"
      ],
      "metadata": {
        "id": "YHPL2XhX0AhO"
      }
    },
    {
      "cell_type": "code",
      "source": [
        "from itertools import product\n",
        "\n",
        "request = input()\n",
        "print('a b c f')\n",
        "for a, b, c in product([0, 1], repeat=3):\n",
        "    print(a, b, c, int(eval(request, {'a': a, 'b': b, 'c': c})))"
      ],
      "metadata": {
        "id": "W3GKIHhj0C6t"
      },
      "execution_count": null,
      "outputs": []
    },
    {
      "cell_type": "markdown",
      "source": [
        "**S. Таблица истинности 2**"
      ],
      "metadata": {
        "id": "Vs7AfrP90DMS"
      }
    },
    {
      "cell_type": "code",
      "source": [
        "from itertools import product\n",
        "\n",
        "request = input()\n",
        "\n",
        "target_vars = [var for var in sorted(set(request.split())) if var.isupper()]\n",
        "print(*[v for v in target_vars], \"F\")\n",
        "\n",
        "for items in product([False, True], repeat=len(target_vars)):\n",
        "    globals = {key: val for key, val in zip(target_vars, items)}\n",
        "    print(*[int(v) for v in items], int(eval(request, globals)))"
      ],
      "metadata": {
        "id": "wXaogOcq0GGD"
      },
      "execution_count": null,
      "outputs": []
    },
    {
      "cell_type": "markdown",
      "source": [
        "**T. Таблицы истинности 3**"
      ],
      "metadata": {
        "id": "hdw_cP_C0JTQ"
      }
    },
    {
      "cell_type": "code",
      "source": [
        "from itertools import product\n",
        "\n",
        "OPS = {'not': 'not', 'and': 'and', 'or': 'or', '^': '!=', '->': '<=', '~': '==', }\n",
        "PRIORITY = {'not': 0, 'and': 1, 'or': 2, '^': 3, '->': 4, '~': 5, '(': 6, }\n",
        "\n",
        "\n",
        "def eval_func(exp, var_lst):\n",
        "    stack = []\n",
        "    for i in exp:\n",
        "        if i in var_lst:\n",
        "            stack.append(var_lst[i])\n",
        "        else:\n",
        "            if i == 'not':\n",
        "                stack.append(not stack.pop())\n",
        "            else:\n",
        "                v2, v1 = stack.pop(), stack.pop()\n",
        "                stack.append(eval(f'{v1} {i} {v2}'))\n",
        "\n",
        "    return int(stack.pop())\n",
        "\n",
        "\n",
        "def parse(exp, var_lst):\n",
        "    exp = (exp.replace('(', '( ').replace(')', ' )')).split()\n",
        "    stack, result = [], []\n",
        "\n",
        "    for i in exp:\n",
        "        if i in var_lst:\n",
        "            result.append(i)\n",
        "\n",
        "        elif i == '(':\n",
        "            stack.append(i)\n",
        "\n",
        "        elif i == ')':\n",
        "            while stack[-1] != '(':\n",
        "                result.append(OPS[stack.pop()])\n",
        "            stack.pop()\n",
        "\n",
        "        elif i in OPS:\n",
        "            while stack and PRIORITY[stack[-1]] <= PRIORITY[i]:\n",
        "                result.append(OPS[stack.pop()])\n",
        "            stack.append(i)\n",
        "\n",
        "    while stack:\n",
        "        result.append(OPS[stack.pop()])\n",
        "\n",
        "    return result\n",
        "\n",
        "\n",
        "request = input()\n",
        "variables = sorted(set([i for i in request if i.isupper()]))\n",
        "\n",
        "table = product([0, 1], repeat=len(variables))\n",
        "parsed = parse(request, variables)\n",
        "\n",
        "print(*variables, 'F')\n",
        "for vals in table:\n",
        "    glb = {key: value for key, value in zip(variables, vals)}\n",
        "    print(*vals, eval_func(parsed, glb))"
      ],
      "metadata": {
        "id": "Fe2qqXux0Kp-"
      },
      "execution_count": null,
      "outputs": []
    }
  ]
}