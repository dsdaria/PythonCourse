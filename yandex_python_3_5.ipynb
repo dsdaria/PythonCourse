{
  "nbformat": 4,
  "nbformat_minor": 0,
  "metadata": {
    "colab": {
      "provenance": []
    },
    "kernelspec": {
      "name": "python3",
      "display_name": "Python 3"
    },
    "language_info": {
      "name": "python"
    }
  },
  "cells": [
    {
      "cell_type": "markdown",
      "source": [
        "**3.5.\n",
        "Потоковый ввод/вывод. Работа с текстовыми файлами. JSON**"
      ],
      "metadata": {
        "id": "ERSllmecywNA"
      }
    },
    {
      "cell_type": "markdown",
      "source": [
        "**A. A+B+...**"
      ],
      "metadata": {
        "id": "mOIZuNGIyxUL"
      }
    },
    {
      "cell_type": "code",
      "execution_count": null,
      "metadata": {
        "id": "jstd-5E7yrDd"
      },
      "outputs": [],
      "source": [
        "from sys import stdin\n",
        "\n",
        "summa = 0\n",
        "for line in stdin:\n",
        "    summa += sum(map(int, line.split()))\n",
        "print(summa)"
      ]
    },
    {
      "cell_type": "markdown",
      "source": [
        "**B. Средний рост**"
      ],
      "metadata": {
        "id": "8ITdxx-wy1b3"
      }
    },
    {
      "cell_type": "code",
      "execution_count": null,
      "metadata": {
        "id": "wNfr-So9y1b3"
      },
      "outputs": [],
      "source": [
        "from sys import stdin\n",
        "\n",
        "counter, summa = 0, 0\n",
        "for line in stdin:\n",
        "    first, second = map(int, line.split()[1::])\n",
        "    summa += second - first\n",
        "    counter += 1\n",
        "\n",
        "print(round(summa / counter))"
      ]
    },
    {
      "cell_type": "markdown",
      "source": [
        "**C. Без комментариев 2.0**"
      ],
      "metadata": {
        "id": "ag0C89zPy8GA"
      }
    },
    {
      "cell_type": "code",
      "source": [
        "from sys import stdin\n",
        "\n",
        "lines = []\n",
        "for line in stdin.readlines():\n",
        "    if not line.startswith(\"#\"):\n",
        "        line = line[:line.find(\"#\")]\n",
        "        lines.append(line)\n",
        "\n",
        "for i in lines:\n",
        "    print(i)"
      ],
      "metadata": {
        "id": "xF70_qHJy-gB"
      },
      "execution_count": null,
      "outputs": []
    },
    {
      "cell_type": "markdown",
      "source": [
        "**D. Найдётся всё 2.0**"
      ],
      "metadata": {
        "id": "oZW4TEIUy_tW"
      }
    },
    {
      "cell_type": "code",
      "source": [
        "from sys import stdin\n",
        "\n",
        "lines = []\n",
        "for line in stdin:\n",
        "    lines.append(line.rstrip(\"\\n\"))\n",
        "\n",
        "key = str(lines[-1])\n",
        "lines = lines[:-1:]\n",
        "\n",
        "for i in range(len(lines)):\n",
        "    if key.lower() in lines[i].lower():\n",
        "        print(lines[i])"
      ],
      "metadata": {
        "id": "nt7o9OgFzBmj"
      },
      "execution_count": null,
      "outputs": []
    },
    {
      "cell_type": "markdown",
      "source": [
        "**E. А роза упала на лапу Азора 6.0**"
      ],
      "metadata": {
        "id": "JJovsVy5zCxZ"
      }
    },
    {
      "cell_type": "code",
      "source": [
        "from sys import stdin\n",
        "\n",
        "lines = []\n",
        "for line in stdin.readlines():\n",
        "    line = line.split()\n",
        "    for elem in line:\n",
        "        if elem.lower() == elem[::-1].lower():\n",
        "            if elem not in lines:\n",
        "                lines.append(elem)\n",
        "lines.sort()\n",
        "for i in lines:\n",
        "    print(i)"
      ],
      "metadata": {
        "id": "wPlY1Jq1zGpi"
      },
      "execution_count": null,
      "outputs": []
    },
    {
      "cell_type": "markdown",
      "source": [
        "**F. Транслитерация 2.0**"
      ],
      "metadata": {
        "id": "CCg6m0ZIzHXd"
      }
    },
    {
      "cell_type": "code",
      "source": [
        "ABC = {\n",
        "    'А': 'A', 'Б': 'B', 'В': 'V', 'Г': 'G',\n",
        "    'Д': 'D', 'Е': 'E', 'Ё': 'E', 'Ж': 'ZH',\n",
        "    'З': 'Z', 'И': 'I', 'Й': 'I', 'К': 'K',\n",
        "    'Л': 'L', 'М': 'M', 'Н': 'N', 'О': 'O',\n",
        "    'П': 'P', 'Р': 'R', 'С': 'S', 'Т': 'T',\n",
        "    'У': 'U', 'Ф': 'F', 'Х': 'KH', 'Ц': 'TC',\n",
        "    'Ч': 'CH', 'Ш': 'SH', 'Щ': 'SHCH', 'Ы': 'Y',\n",
        "    'Э': 'E', 'Ю': 'IU', 'Я': 'IA', 'Ь': '', 'Ъ': ''\n",
        "}\n",
        "\n",
        "with open('transliteration.txt', 'w', encoding='UTF-8') as out:\n",
        "    with open('cyrillic.txt', encoding='UTF-8') as inp:\n",
        "        for line in inp:\n",
        "            for i in line:\n",
        "                local = i.upper()\n",
        "                if local in ABC:\n",
        "                    if i.islower():\n",
        "                        i = ABC[local].lower()\n",
        "                    else:\n",
        "                        i = ABC[local].capitalize()\n",
        "                else:\n",
        "                    i = i\n",
        "                print(i, end='', file=out)"
      ],
      "metadata": {
        "id": "lrkoYmgUzLXj"
      },
      "execution_count": null,
      "outputs": []
    },
    {
      "cell_type": "markdown",
      "source": [
        "**G. Файловая статистика**"
      ],
      "metadata": {
        "id": "iwlpyACxzMcy"
      }
    },
    {
      "cell_type": "code",
      "source": [
        "file_name = input()\n",
        "\n",
        "numbers = []\n",
        "file_in = open(file_name, encoding=\"UTF-8\")\n",
        "for line in file_in:\n",
        "    line = line.split()\n",
        "    for i in line:\n",
        "        numbers.append(int(i))\n",
        "\n",
        "file_in.close()\n",
        "\n",
        "print(len(numbers))\n",
        "print(len([num for num in numbers if num > 0]))\n",
        "print(min(numbers))\n",
        "print(max(numbers))\n",
        "print(sum(numbers))\n",
        "print(round(sum(numbers) / len(numbers), 2))"
      ],
      "metadata": {
        "id": "pHsccVOtzO68"
      },
      "execution_count": null,
      "outputs": []
    },
    {
      "cell_type": "markdown",
      "source": [
        "**H. Файловая разница**"
      ],
      "metadata": {
        "id": "bLkUoGUFzVz0"
      }
    },
    {
      "cell_type": "code",
      "source": [
        "first_file = input()\n",
        "second_file = input()\n",
        "res_file = input()\n",
        "\n",
        "f1 = open(first_file, 'r', encoding='utf-8')\n",
        "lines1 = set(f1.read().split())\n",
        "f1.close()\n",
        "\n",
        "f2 = open(second_file, 'r', encoding='utf-8')\n",
        "lines2 = set(f2.read().split())\n",
        "f2.close()\n",
        "\n",
        "result = sorted(lines1.symmetric_difference(lines2))\n",
        "\n",
        "with open(res_file, 'w') as f:\n",
        "    f.write('\\n'.join(result))"
      ],
      "metadata": {
        "id": "lEUE9E3jzWym"
      },
      "execution_count": null,
      "outputs": []
    },
    {
      "cell_type": "markdown",
      "source": [
        "**I. Файловая чистка**"
      ],
      "metadata": {
        "id": "uiSVFb4hzcuy"
      }
    },
    {
      "cell_type": "code",
      "source": [
        "data = []\n",
        "\n",
        "with open(input(), \"r\") as f:\n",
        "    for line in f:\n",
        "        current_line = line.strip().replace(\"\\t\", \"\").split()\n",
        "        data.append(current_line)\n",
        "\n",
        "data = [i for i in data if any(i)]\n",
        "\n",
        "with open(input(), \"w\") as f:\n",
        "    for line in data:\n",
        "        print(*line, end='\\n', file=f)"
      ],
      "metadata": {
        "id": "yFdIVkFwzetJ"
      },
      "execution_count": null,
      "outputs": []
    },
    {
      "cell_type": "markdown",
      "source": [
        "**J. Хвост**"
      ],
      "metadata": {
        "id": "lZY_WBuRziuZ"
      }
    },
    {
      "cell_type": "code",
      "source": [
        "from sys import stdin\n",
        "\n",
        "file = input()\n",
        "num = int(input())\n",
        "\n",
        "with open(file, encoding=\"UTF-8\") as file_in:\n",
        "    lines = file_in.readlines()\n",
        "\n",
        "for i in lines[-num::]:\n",
        "    print(i.rstrip('\\n'))"
      ],
      "metadata": {
        "id": "SEx2nipWzlns"
      },
      "execution_count": null,
      "outputs": []
    },
    {
      "cell_type": "markdown",
      "source": [
        "**K. Файловая статистика 2.0**"
      ],
      "metadata": {
        "id": "ZPYgcklSznAn"
      }
    },
    {
      "cell_type": "code",
      "source": [
        "import json\n",
        "\n",
        "file_name = input()\n",
        "file_out = input()\n",
        "\n",
        "numbers = []\n",
        "file_in = open(file_name, encoding=\"UTF-8\")\n",
        "for line in file_in:\n",
        "    line = line.split()\n",
        "    for i in line:\n",
        "        numbers.append(int(i))\n",
        "\n",
        "file_in.close()\n",
        "\n",
        "data = {\"count\": len(numbers),\n",
        "        \"positive_count\": len([num for num in numbers if num > 0]),\n",
        "        \"min\": min(numbers),\n",
        "        \"max\": max(numbers),\n",
        "        \"sum\": sum(numbers),\n",
        "        \"average\": round(sum(numbers) / len(numbers), 2)\n",
        "        }\n",
        "\n",
        "with open(file_out, \"w\", encoding=\"UTF-8\") as file_out:\n",
        "    json.dump(data, file_out, ensure_ascii=False, indent=2)"
      ],
      "metadata": {
        "id": "5Rykp7rIzo4o"
      },
      "execution_count": null,
      "outputs": []
    },
    {
      "cell_type": "markdown",
      "source": [
        "**L. Разделяй и властвуй**"
      ],
      "metadata": {
        "id": "PQCTnw6DzpzG"
      }
    },
    {
      "cell_type": "code",
      "source": [
        "even_digs = '02468'\n",
        "odd_digs = '13579'\n",
        "strings = []\n",
        "\n",
        "inp_f = input()\n",
        "evens_f = input()\n",
        "odds_f = input()\n",
        "equals_f = input()\n",
        "\n",
        "with open(inp_f, encoding=\"UTF-8\") as f:\n",
        "    data = f.read().split(\"\\n\")\n",
        "    for s in data:\n",
        "        if s:\n",
        "            strings.append(s)\n",
        "\n",
        "for s in strings:\n",
        "    evens, odds, equals = [], [], []\n",
        "\n",
        "    for num in s.split():\n",
        "        evens_total, odds_total = 0, 0\n",
        "        for sym in num:\n",
        "            if sym in odd_digs:\n",
        "                odds_total += 1\n",
        "            elif sym in even_digs:\n",
        "                evens_total += 1\n",
        "\n",
        "        if evens_total < odds_total:\n",
        "            odds.append(num)\n",
        "        elif evens_total > odds_total:\n",
        "            evens.append(num)\n",
        "        else:\n",
        "            equals.append(num)\n",
        "\n",
        "    with open(evens_f, \"a\", encoding=\"UTF-8\") as f:\n",
        "        f.write(\" \".join(evens) + \"\\n\")\n",
        "\n",
        "    with open(equals_f, \"a\", encoding=\"UTF-8\") as f:\n",
        "        f.write(\" \".join(equals) + \"\\n\")\n",
        "\n",
        "    with open(odds_f, \"a\", encoding=\"UTF-8\") as f:\n",
        "        f.write(\" \".join(odds) + \"\\n\")"
      ],
      "metadata": {
        "id": "bQYJ7tMazr0p"
      },
      "execution_count": null,
      "outputs": []
    },
    {
      "cell_type": "markdown",
      "source": [
        "**M. Обновление данных**"
      ],
      "metadata": {
        "id": "u2lhFMknztFD"
      }
    },
    {
      "cell_type": "code",
      "source": [
        "from sys import stdin\n",
        "import json\n",
        "\n",
        "json_n = input()\n",
        "with open(json_n) as f:\n",
        "    json_data = json.load(f)\n",
        "\n",
        "lines = stdin.readlines()\n",
        "\n",
        "for line in lines:\n",
        "    if len(line) != 0:\n",
        "        key, value = line.split('==')\n",
        "        json_data[key.strip()] = value.strip()\n",
        "\n",
        "with open(json_n, 'w') as f:\n",
        "    json.dump(json_data, f, sort_keys=False, indent=4, ensure_ascii=False)"
      ],
      "metadata": {
        "id": "O0IOeZquzuD8"
      },
      "execution_count": null,
      "outputs": []
    },
    {
      "cell_type": "markdown",
      "source": [
        "**N. Слияние данных**"
      ],
      "metadata": {
        "id": "xaT8BsMrzyUC"
      }
    },
    {
      "cell_type": "code",
      "source": [
        "import json\n",
        "\n",
        "key_name, glb_dict = 'name', {}\n",
        "json_name = input()\n",
        "json_update = input()\n",
        "\n",
        "with open(json_name) as f:\n",
        "    source = json.load(f)\n",
        "\n",
        "with open(json_update) as f:\n",
        "    updates = json.load(f)\n",
        "\n",
        "for item in updates:\n",
        "    for data in source:\n",
        "        if item[key_name] == data[key_name]:\n",
        "            for key in item.keys():\n",
        "                if data.get(key, '') < item[key]:\n",
        "                    data[key] = item[key]\n",
        "\n",
        "for item in source:\n",
        "    name = item.pop(key_name)\n",
        "    glb_dict[name] = item\n",
        "\n",
        "with open(json_name, 'w') as file:\n",
        "    json.dump(glb_dict, file, indent=4, sort_keys=False, ensure_ascii=False)"
      ],
      "metadata": {
        "id": "tn2mxHfkz0nb"
      },
      "execution_count": null,
      "outputs": []
    },
    {
      "cell_type": "markdown",
      "source": [
        "**O. Поставь себя на моё место**"
      ],
      "metadata": {
        "id": "-BPgcd7gz1ie"
      }
    },
    {
      "cell_type": "code",
      "source": [
        "from sys import stdin\n",
        "import json\n",
        "\n",
        "\n",
        "total = 0\n",
        "with open('scoring.json') as f:\n",
        "    input_data = json.load(f)\n",
        "\n",
        "answers = stdin.readlines()\n",
        "\n",
        "while input_data:\n",
        "    tests = input_data.pop(0)\n",
        "    mult = int(tests['points'] / len(tests['tests']))\n",
        "    for item in tests['tests']:\n",
        "        result = item['pattern']\n",
        "        answer = answers.pop(0).strip('\\n')\n",
        "        if result == answer:\n",
        "            total += mult\n",
        "\n",
        "print(total)"
      ],
      "metadata": {
        "id": "bw5QJeaDz3os"
      },
      "execution_count": null,
      "outputs": []
    },
    {
      "cell_type": "markdown",
      "source": [
        "**P. Найдётся всё 3.0**"
      ],
      "metadata": {
        "id": "2FCIj0CPz4r8"
      }
    },
    {
      "cell_type": "code",
      "source": [
        "from sys import stdin\n",
        "\n",
        "\n",
        "global_dict = {}\n",
        "input_data = [line.strip() for line in stdin]\n",
        "first = input_data[0].lower()\n",
        "\n",
        "for file in input_data[1:]:\n",
        "    with open(file, \"r\", encoding=\"UTF-8\") as inp_file:\n",
        "        global_dict[file] = inp_file.read()\n",
        "        replace_data = global_dict[file].replace('&nbsp;', ' ')\n",
        "        if first in ' '.join(replace_data.lower().split()):\n",
        "            print(file)\n",
        "        else:\n",
        "            del global_dict[file]\n",
        "\n",
        "\n",
        "if len(global_dict) == 0:\n",
        "    print('404. Not Found')"
      ],
      "metadata": {
        "id": "dtXDEYQHz6x9"
      },
      "execution_count": null,
      "outputs": []
    },
    {
      "cell_type": "markdown",
      "source": [
        "**Q. Прятки**"
      ],
      "metadata": {
        "id": "ImXW7OkEz8Q5"
      }
    },
    {
      "cell_type": "code",
      "source": [
        "with open(\"secret.txt\", 'r', encoding='UTF-8') as f:\n",
        "    data = f.read()\n",
        "    print(''.join([chr(ord(i) % 128) for i in data]))"
      ],
      "metadata": {
        "id": "w_t3-Szjz_dt"
      },
      "execution_count": null,
      "outputs": []
    },
    {
      "cell_type": "markdown",
      "source": [
        "**R. Сколько вешать в байтах?**"
      ],
      "metadata": {
        "id": "YHPL2XhX0AhO"
      }
    },
    {
      "cell_type": "code",
      "source": [
        "import os\n",
        "\n",
        "value = os.path.getsize(input())\n",
        "if value > 1024**3 - 1:\n",
        "    unit = 'ГБ'\n",
        "    value = int(value / 1024**3) + 1\n",
        "\n",
        "\n",
        "elif value > 1024**2 - 1:\n",
        "    unit = 'МБ'\n",
        "    value = int(value / 1024**2) + 1\n",
        "\n",
        "elif value > 1024**1 - 1:\n",
        "    unit = 'КБ'\n",
        "    value = int(value / 1024**1) + 1\n",
        "else:\n",
        "    unit = 'Б'\n",
        "print(str(value) + unit)"
      ],
      "metadata": {
        "id": "W3GKIHhj0C6t"
      },
      "execution_count": null,
      "outputs": []
    },
    {
      "cell_type": "markdown",
      "source": [
        "**S. Это будет наш секрет**"
      ],
      "metadata": {
        "id": "Vs7AfrP90DMS"
      }
    },
    {
      "cell_type": "code",
      "source": [
        "abc = \"abcdefghijklmnopqrstuvwxyz\"\n",
        "\n",
        "with open(\"public.txt\", \"r\", encoding=\"UTF-8\") as inp:\n",
        "    data = inp.read()\n",
        "\n",
        "delta = int(input())\n",
        "data_new = []\n",
        "for i in data:\n",
        "    if i.lower() in abc:\n",
        "        data_new.append(abc[(abc.find(i.lower()) + delta) % len(abc)])\n",
        "    else:\n",
        "        data_new.append(i)\n",
        "\n",
        "for index, sym in enumerate(data):\n",
        "    if sym.isupper():\n",
        "        data_new[index] = data_new[index].upper()\n",
        "\n",
        "with open(\"private.txt\", \"w\") as out:\n",
        "    print(''.join(data_new), file=out)"
      ],
      "metadata": {
        "id": "wXaogOcq0GGD"
      },
      "execution_count": null,
      "outputs": []
    },
    {
      "cell_type": "markdown",
      "source": [
        "**T. Файловая сумма**"
      ],
      "metadata": {
        "id": "hdw_cP_C0JTQ"
      }
    },
    {
      "cell_type": "code",
      "source": [
        "with open(\"numbers.num\", \"rb\") as file_input:\n",
        "    inp_data = file_input.read()\n",
        "total = 0\n",
        "for i in range(0, len(inp_data), 2):\n",
        "    total += int.from_bytes(inp_data[i:i + 2], \"big\")\n",
        "\n",
        "print(total % 2**16)"
      ],
      "metadata": {
        "id": "Fe2qqXux0Kp-"
      },
      "execution_count": null,
      "outputs": []
    }
  ]
}