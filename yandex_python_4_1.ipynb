{
  "nbformat": 4,
  "nbformat_minor": 0,
  "metadata": {
    "colab": {
      "provenance": []
    },
    "kernelspec": {
      "name": "python3",
      "display_name": "Python 3"
    },
    "language_info": {
      "name": "python"
    }
  },
  "cells": [
    {
      "cell_type": "markdown",
      "source": [
        "**4.1.\n",
        "Функции. Области видимости. Передача параметров в функции**"
      ],
      "metadata": {
        "id": "ERSllmecywNA"
      }
    },
    {
      "cell_type": "markdown",
      "source": [
        "**A. Функциональное приветствие**"
      ],
      "metadata": {
        "id": "mOIZuNGIyxUL"
      }
    },
    {
      "cell_type": "code",
      "execution_count": null,
      "metadata": {
        "id": "jstd-5E7yrDd"
      },
      "outputs": [],
      "source": [
        "def print_hello(name):\n",
        "    print(f'Hello, {name}!')"
      ]
    },
    {
      "cell_type": "markdown",
      "source": [
        "**B. Функциональный НОД**"
      ],
      "metadata": {
        "id": "8ITdxx-wy1b3"
      }
    },
    {
      "cell_type": "code",
      "execution_count": null,
      "metadata": {
        "id": "wNfr-So9y1b3"
      },
      "outputs": [],
      "source": [
        "def gcd(a, b):\n",
        "    while b > 0:\n",
        "        a, b = b, a % b\n",
        "    return a"
      ]
    },
    {
      "cell_type": "markdown",
      "source": [
        "**C. Длина числа**"
      ],
      "metadata": {
        "id": "ag0C89zPy8GA"
      }
    },
    {
      "cell_type": "code",
      "source": [
        "def number_length(num_seq):\n",
        "    return len(str(abs(num_seq)))"
      ],
      "metadata": {
        "id": "xF70_qHJy-gB"
      },
      "execution_count": null,
      "outputs": []
    },
    {
      "cell_type": "markdown",
      "source": [
        "**D. Имя of the month**"
      ],
      "metadata": {
        "id": "oZW4TEIUy_tW"
      }
    },
    {
      "cell_type": "code",
      "source": [
        "def month(num, lang):\n",
        "    month_dict = {\n",
        "        'en': [\n",
        "            'January', 'February', 'March',\n",
        "            'April', 'May', 'June',\n",
        "            'July', 'August', 'September',\n",
        "            'October', 'November', 'December'\n",
        "        ],\n",
        "        'ru': [\n",
        "            'Январь', 'Февраль', 'Март',\n",
        "            'Апрель', 'Май', 'Июнь',\n",
        "            'Июль', 'Август', 'Сентябрь',\n",
        "            'Октябрь', 'Ноябрь', 'Декабрь'\n",
        "        ]\n",
        "    }\n",
        "\n",
        "    return month_dict[lang][num - 1]"
      ],
      "metadata": {
        "id": "nt7o9OgFzBmj"
      },
      "execution_count": null,
      "outputs": []
    },
    {
      "cell_type": "markdown",
      "source": [
        "**E. Числовая строка**"
      ],
      "metadata": {
        "id": "JJovsVy5zCxZ"
      }
    },
    {
      "cell_type": "code",
      "source": [
        "def split_numbers(string):\n",
        "    return tuple(map(int, string.split()))"
      ],
      "metadata": {
        "id": "wPlY1Jq1zGpi"
      },
      "execution_count": null,
      "outputs": []
    },
    {
      "cell_type": "markdown",
      "source": [
        "**F. Модернизация системы вывода**"
      ],
      "metadata": {
        "id": "CCg6m0ZIzHXd"
      }
    },
    {
      "cell_type": "code",
      "source": [
        "list_strs = []\n",
        "\n",
        "\n",
        "def modern_print(inp):\n",
        "    if inp not in list_strs:\n",
        "        print(inp)\n",
        "        list_strs.append(inp)"
      ],
      "metadata": {
        "id": "lrkoYmgUzLXj"
      },
      "execution_count": null,
      "outputs": []
    },
    {
      "cell_type": "markdown",
      "source": [
        "**G. Шахматный «обед»**"
      ],
      "metadata": {
        "id": "iwlpyACxzMcy"
      }
    },
    {
      "cell_type": "code",
      "source": [
        "def can_eat(horse, new):\n",
        "    return abs(horse[0] - new[0]) + abs(horse[1] - new[1]) == 3"
      ],
      "metadata": {
        "id": "pHsccVOtzO68"
      },
      "execution_count": null,
      "outputs": []
    },
    {
      "cell_type": "markdown",
      "source": [
        "**H. А роза упала на лапу Азора 7.0**"
      ],
      "metadata": {
        "id": "bLkUoGUFzVz0"
      }
    },
    {
      "cell_type": "code",
      "source": [
        "def is_palindrome(inp):\n",
        "    if isinstance(inp, int):\n",
        "        inp = str(inp)\n",
        "    return inp == inp[::-1]"
      ],
      "metadata": {
        "id": "lEUE9E3jzWym"
      },
      "execution_count": null,
      "outputs": []
    },
    {
      "cell_type": "markdown",
      "source": [
        "**I. Простая задача 5.0**"
      ],
      "metadata": {
        "id": "uiSVFb4hzcuy"
      }
    },
    {
      "cell_type": "code",
      "source": [
        "def is_prime(n):\n",
        "    for i in range(2, int(n**0.5) + 1):\n",
        "        if not n % i:\n",
        "            return False\n",
        "    return n != 1"
      ],
      "metadata": {
        "id": "yFdIVkFwzetJ"
      },
      "execution_count": null,
      "outputs": []
    },
    {
      "cell_type": "markdown",
      "source": [
        "**J. Слияние**"
      ],
      "metadata": {
        "id": "lZY_WBuRziuZ"
      }
    },
    {
      "cell_type": "code",
      "source": [
        "def bubbleSort(array):\n",
        "    swapped = False\n",
        "    for i in range(len(array) - 1, 0, -1):\n",
        "        for j in range(i):\n",
        "            if array[j] > array[j + 1]:\n",
        "                array[j], array[j + 1] = array[j + 1], array[j]\n",
        "                swapped = True\n",
        "        if swapped:\n",
        "            swapped = False\n",
        "        else:\n",
        "            break\n",
        "    return array\n",
        "\n",
        "\n",
        "def merge(a, b):\n",
        "    arr = list(a) + list(b)\n",
        "    return tuple(bubbleSort(arr))"
      ],
      "metadata": {
        "id": "SEx2nipWzlns"
      },
      "execution_count": null,
      "outputs": []
    }
  ]
}