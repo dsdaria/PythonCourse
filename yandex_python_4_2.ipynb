{
  "nbformat": 4,
  "nbformat_minor": 0,
  "metadata": {
    "colab": {
      "provenance": []
    },
    "kernelspec": {
      "name": "python3",
      "display_name": "Python 3"
    },
    "language_info": {
      "name": "python"
    }
  },
  "cells": [
    {
      "cell_type": "markdown",
      "source": [
        "**4.2.\n",
        "Позиционные и именованные аргументы. Функции высших порядков. Лямбда-функции**"
      ],
      "metadata": {
        "id": "ERSllmecywNA"
      }
    },
    {
      "cell_type": "markdown",
      "source": [
        "**A. Генератор списков**"
      ],
      "metadata": {
        "id": "mOIZuNGIyxUL"
      }
    },
    {
      "cell_type": "code",
      "execution_count": null,
      "metadata": {
        "id": "jstd-5E7yrDd"
      },
      "outputs": [],
      "source": [
        "def make_list(length, value=0):\n",
        "    return [value] * length"
      ]
    },
    {
      "cell_type": "markdown",
      "source": [
        "**B. Генератор матриц**"
      ],
      "metadata": {
        "id": "8ITdxx-wy1b3"
      }
    },
    {
      "cell_type": "code",
      "execution_count": null,
      "metadata": {
        "id": "wNfr-So9y1b3"
      },
      "outputs": [],
      "source": [
        "def make_matrix(size, value=0):\n",
        "    if isinstance(size, int):\n",
        "        return [[value for i in range(size)] for j in range(size)]\n",
        "    else:\n",
        "        return [[value for i in range(size[0])] for j in range(size[1])]"
      ]
    },
    {
      "cell_type": "markdown",
      "source": [
        "**C. Функциональный нод 2.0**"
      ],
      "metadata": {
        "id": "ag0C89zPy8GA"
      }
    },
    {
      "cell_type": "code",
      "source": [
        "def gcd(*args):\n",
        "    nums = list(args)\n",
        "    while len(nums) > 1:\n",
        "        while nums[1] != 0:\n",
        "            nums[0], nums[1] = nums[1], nums[0] % nums[1]\n",
        "        nums.pop(1)\n",
        "    return nums[0]"
      ],
      "metadata": {
        "id": "xF70_qHJy-gB"
      },
      "execution_count": null,
      "outputs": []
    },
    {
      "cell_type": "markdown",
      "source": [
        "**D. Имя of the month 2.0**"
      ],
      "metadata": {
        "id": "oZW4TEIUy_tW"
      }
    },
    {
      "cell_type": "code",
      "source": [
        "def month(num, lang=\"ru\"):\n",
        "    month_dict = {\n",
        "        'en': [\n",
        "            'January', 'February', 'March',\n",
        "            'April', 'May', 'June',\n",
        "            'July', 'August', 'September',\n",
        "            'October', 'November', 'December'\n",
        "        ],\n",
        "        'ru': [\n",
        "            'Январь', 'Февраль', 'Март',\n",
        "            'Апрель', 'Май', 'Июнь',\n",
        "            'Июль', 'Август', 'Сентябрь',\n",
        "            'Октябрь', 'Ноябрь', 'Декабрь'\n",
        "        ]\n",
        "    }\n",
        "\n",
        "    return month_dict[lang][num - 1]"
      ],
      "metadata": {
        "id": "nt7o9OgFzBmj"
      },
      "execution_count": null,
      "outputs": []
    },
    {
      "cell_type": "markdown",
      "source": [
        "**E. Подготовка данных**"
      ],
      "metadata": {
        "id": "JJovsVy5zCxZ"
      }
    },
    {
      "cell_type": "code",
      "source": [
        "def to_string(*args, sep=' ', end='\\n'):\n",
        "    return sep.join(map(str, args)) + end"
      ],
      "metadata": {
        "id": "wPlY1Jq1zGpi"
      },
      "execution_count": null,
      "outputs": []
    },
    {
      "cell_type": "markdown",
      "source": [
        "**F. Кофейня**"
      ],
      "metadata": {
        "id": "CCg6m0ZIzHXd"
      }
    },
    {
      "cell_type": "code",
      "source": [
        "RECIPE = {\n",
        "    'Эспрессо': {'coffee': 1},\n",
        "    'Капучино': {\"coffee\": 1, \"milk\": 3},\n",
        "    'Макиато': {\"coffee\": 2, \"milk\": 1},\n",
        "    'Кофе по-венски': {\"coffee\": 1, \"cream\": 2},\n",
        "    'Латте Макиато': {\"coffee\": 1, \"milk\": 2, \"cream\": 1},\n",
        "    'Кон Панна': {\"coffee\": 1, \"cream\": 1}\n",
        "}\n",
        "\n",
        "in_stock = {}\n",
        "\n",
        "\n",
        "def ingredients(coffee):\n",
        "    global RECIPES, in_stock\n",
        "    res = []\n",
        "    for ing in RECIPE[coffee]:\n",
        "        res.append(RECIPE[coffee][ing] <= in_stock[ing])\n",
        "    return all(res)\n",
        "\n",
        "\n",
        "def order(*drinks):\n",
        "    global RECIPE, in_stock\n",
        "\n",
        "    for cof in drinks:\n",
        "        if ingredients(cof):\n",
        "            for ing, amount in RECIPE[cof].items():\n",
        "                in_stock[ing] -= amount\n",
        "            return cof\n",
        "\n",
        "    return 'К сожалению, не можем предложить Вам напиток'"
      ],
      "metadata": {
        "id": "lrkoYmgUzLXj"
      },
      "execution_count": null,
      "outputs": []
    },
    {
      "cell_type": "markdown",
      "source": [
        "**G. В эфире рубрика «Эксперименты»**"
      ],
      "metadata": {
        "id": "iwlpyACxzMcy"
      }
    },
    {
      "cell_type": "code",
      "source": [
        "input_data = []\n",
        "odds, evens = [], []\n",
        "\n",
        "\n",
        "def enter_results(*inp):\n",
        "    global input_data, odds, evens\n",
        "    input_data.extend(list(inp))\n",
        "    evens = input_data[1::2]\n",
        "    odds = input_data[::2]\n",
        "\n",
        "\n",
        "def get_average():\n",
        "    return round(sum(odds) / len(odds), 2), round(sum(evens) / len(evens), 2)\n",
        "\n",
        "\n",
        "def get_sum():\n",
        "    return round(sum(odds), 2), round(sum(evens), 2)"
      ],
      "metadata": {
        "id": "pHsccVOtzO68"
      },
      "execution_count": null,
      "outputs": []
    },
    {
      "cell_type": "markdown",
      "source": [
        "**H. Длинная сортировка**"
      ],
      "metadata": {
        "id": "bLkUoGUFzVz0"
      }
    },
    {
      "cell_type": "code",
      "source": [
        "lambda x: (len(x), x.lower())"
      ],
      "metadata": {
        "id": "lEUE9E3jzWym"
      },
      "execution_count": null,
      "outputs": []
    },
    {
      "cell_type": "markdown",
      "source": [
        "**I. Чётная фильтрация**"
      ],
      "metadata": {
        "id": "uiSVFb4hzcuy"
      }
    },
    {
      "cell_type": "code",
      "source": [
        "lambda num: not sum(map(int, str(num))) % 2"
      ],
      "metadata": {
        "id": "yFdIVkFwzetJ"
      },
      "execution_count": null,
      "outputs": []
    },
    {
      "cell_type": "markdown",
      "source": [
        "**J. Ключевой секрет**"
      ],
      "metadata": {
        "id": "lZY_WBuRziuZ"
      }
    },
    {
      "cell_type": "code",
      "source": [
        "def secret_replace(text, **replaces):\n",
        "    decode = ''\n",
        "    for i in text:\n",
        "        if i in replaces:\n",
        "            decode += replaces[i][0]\n",
        "            replaces[i] = replaces[i][1:] + (replaces[i][0],)\n",
        "        else:\n",
        "            decode += i\n",
        "    return decode"
      ],
      "metadata": {
        "id": "SEx2nipWzlns"
      },
      "execution_count": null,
      "outputs": []
    }
  ]
}