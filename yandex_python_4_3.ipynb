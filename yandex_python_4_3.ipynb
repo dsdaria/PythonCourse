{
  "nbformat": 4,
  "nbformat_minor": 0,
  "metadata": {
    "colab": {
      "provenance": []
    },
    "kernelspec": {
      "name": "python3",
      "display_name": "Python 3"
    },
    "language_info": {
      "name": "python"
    }
  },
  "cells": [
    {
      "cell_type": "markdown",
      "source": [
        "**4.3.\n",
        "Рекурсия. Декораторы. Генераторы**"
      ],
      "metadata": {
        "id": "ERSllmecywNA"
      }
    },
    {
      "cell_type": "markdown",
      "source": [
        "**A. Рекурсивный сумматор**"
      ],
      "metadata": {
        "id": "mOIZuNGIyxUL"
      }
    },
    {
      "cell_type": "code",
      "execution_count": null,
      "metadata": {
        "id": "jstd-5E7yrDd"
      },
      "outputs": [],
      "source": [
        "def recursive_sum(*args):\n",
        "    if not args:\n",
        "        return 0\n",
        "    return args[0] + recursive_sum(*args[1:])"
      ]
    },
    {
      "cell_type": "markdown",
      "source": [
        "**B. Рекурсивный сумматор цифр**"
      ],
      "metadata": {
        "id": "8ITdxx-wy1b3"
      }
    },
    {
      "cell_type": "code",
      "execution_count": null,
      "metadata": {
        "id": "wNfr-So9y1b3"
      },
      "outputs": [],
      "source": [
        "def recursive_digit_sum(num):\n",
        "    if num != 0:\n",
        "        return num % 10 + recursive_digit_sum(num // 10)\n",
        "    else:\n",
        "        return 0"
      ]
    },
    {
      "cell_type": "markdown",
      "source": [
        "**C. Многочлен N-ой степени**"
      ],
      "metadata": {
        "id": "ag0C89zPy8GA"
      }
    },
    {
      "cell_type": "code",
      "source": [
        "def make_equation(*inp_nums):\n",
        "    if len(inp_nums) == 1:\n",
        "        return f'{inp_nums[0]}'\n",
        "    else:\n",
        "        return f'({make_equation(*inp_nums[:-1])}) * x + {inp_nums[-1]}'"
      ],
      "metadata": {
        "id": "xF70_qHJy-gB"
      },
      "execution_count": null,
      "outputs": []
    },
    {
      "cell_type": "markdown",
      "source": [
        "**D. Декор результата**"
      ],
      "metadata": {
        "id": "oZW4TEIUy_tW"
      }
    },
    {
      "cell_type": "code",
      "source": [
        "def answer(f):\n",
        "    def decorated(*args, **kwargs):\n",
        "        return f'Результат функции: {f(*args, **kwargs)}'\n",
        "    return decorated"
      ],
      "metadata": {
        "id": "nt7o9OgFzBmj"
      },
      "execution_count": null,
      "outputs": []
    },
    {
      "cell_type": "markdown",
      "source": [
        "**E. Накопление результата**"
      ],
      "metadata": {
        "id": "JJovsVy5zCxZ"
      }
    },
    {
      "cell_type": "code",
      "source": [
        "def result_accumulator(f):\n",
        "    ret = []\n",
        "\n",
        "    def decorated(*args, method='accumulate'):\n",
        "        if method == 'accumulate':\n",
        "            ret.append(f(*args))\n",
        "        if method == 'drop':\n",
        "            ret.append(f(*args))\n",
        "            templ = ret.copy()\n",
        "            ret.clear()\n",
        "            return templ\n",
        "    return decorated"
      ],
      "metadata": {
        "id": "wPlY1Jq1zGpi"
      },
      "execution_count": null,
      "outputs": []
    },
    {
      "cell_type": "markdown",
      "source": [
        "**F. Сортировка слиянием**"
      ],
      "metadata": {
        "id": "CCg6m0ZIzHXd"
      }
    },
    {
      "cell_type": "code",
      "source": [
        "import operator\n",
        "\n",
        "\n",
        "def merge_sort(L, compare=operator.lt):\n",
        "    if len(L) < 2:\n",
        "        return L[:]\n",
        "    else:\n",
        "        middle = int(len(L) / 2)\n",
        "        left = merge_sort(L[:middle], compare)\n",
        "        right = merge_sort(L[middle:], compare)\n",
        "        return merge(left, right, compare)\n",
        "\n",
        "\n",
        "def merge(left, right, compare):\n",
        "    result = []\n",
        "    i, j = 0, 0\n",
        "    while i < len(left) and j < len(right):\n",
        "        if compare(left[i], right[j]):\n",
        "            result.append(left[i])\n",
        "            i += 1\n",
        "        else:\n",
        "            result.append(right[j])\n",
        "            j += 1\n",
        "    while i < len(left):\n",
        "        result.append(left[i])\n",
        "        i += 1\n",
        "    while j < len(right):\n",
        "        result.append(right[j])\n",
        "        j += 1\n",
        "    return result"
      ],
      "metadata": {
        "id": "lrkoYmgUzLXj"
      },
      "execution_count": null,
      "outputs": []
    },
    {
      "cell_type": "markdown",
      "source": [
        "**G. Однотипность не порок**"
      ],
      "metadata": {
        "id": "iwlpyACxzMcy"
      }
    },
    {
      "cell_type": "code",
      "source": [
        "def same_type(f):\n",
        "    def decorated(*args):\n",
        "        if len({type(i) for i in args}) == 1:\n",
        "            return f(*args)\n",
        "        else:\n",
        "            print(\"Обнаружены различные типы данных\")\n",
        "            return False\n",
        "\n",
        "    return decorated"
      ],
      "metadata": {
        "id": "pHsccVOtzO68"
      },
      "execution_count": null,
      "outputs": []
    },
    {
      "cell_type": "markdown",
      "source": [
        "**H. Генератор Фибоначчи**"
      ],
      "metadata": {
        "id": "bLkUoGUFzVz0"
      }
    },
    {
      "cell_type": "code",
      "source": [
        "def fibonacci(n):\n",
        "    n_1, n_2 = 0, 1\n",
        "    for i in range(n):\n",
        "        yield n_1\n",
        "        n_1, n_2 = n_2, n_1 + n_2"
      ],
      "metadata": {
        "id": "lEUE9E3jzWym"
      },
      "execution_count": null,
      "outputs": []
    },
    {
      "cell_type": "markdown",
      "source": [
        "**I. Циклический генератор**"
      ],
      "metadata": {
        "id": "uiSVFb4hzcuy"
      }
    },
    {
      "cell_type": "code",
      "source": [
        "def cycle(inp_list):\n",
        "    while inp_list:\n",
        "        for i in inp_list:\n",
        "            yield i"
      ],
      "metadata": {
        "id": "yFdIVkFwzetJ"
      },
      "execution_count": null,
      "outputs": []
    },
    {
      "cell_type": "markdown",
      "source": [
        "**J. \"Выпрямление\" списка**"
      ],
      "metadata": {
        "id": "lZY_WBuRziuZ"
      }
    },
    {
      "cell_type": "code",
      "source": [
        "def make_linear(inp_list):\n",
        "    ret_list = []\n",
        "    for i in inp_list:\n",
        "        if isinstance(i, list):\n",
        "            ret_list.extend(make_linear(i))\n",
        "        else:\n",
        "            ret_list.append(i)\n",
        "\n",
        "    return ret_list"
      ],
      "metadata": {
        "id": "SEx2nipWzlns"
      },
      "execution_count": null,
      "outputs": []
    }
  ]
}