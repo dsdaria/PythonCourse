{
  "nbformat": 4,
  "nbformat_minor": 0,
  "metadata": {
    "colab": {
      "provenance": []
    },
    "kernelspec": {
      "name": "python3",
      "display_name": "Python 3"
    },
    "language_info": {
      "name": "python"
    }
  },
  "cells": [
    {
      "cell_type": "markdown",
      "source": [
        "**5.1. Объектная модель Python. Классы, поля и методы**"
      ],
      "metadata": {
        "id": "ERSllmecywNA"
      }
    },
    {
      "cell_type": "markdown",
      "source": [
        "**A. Классная точка**"
      ],
      "metadata": {
        "id": "mOIZuNGIyxUL"
      }
    },
    {
      "cell_type": "code",
      "execution_count": null,
      "metadata": {
        "id": "jstd-5E7yrDd"
      },
      "outputs": [],
      "source": [
        "class Point:\n",
        "\n",
        "    def __init__(self, x_c, y_c):\n",
        "        self.x = x_c\n",
        "        self.y = y_c"
      ]
    },
    {
      "cell_type": "markdown",
      "source": [
        "**B. Классная точка 2.0**"
      ],
      "metadata": {
        "id": "8ITdxx-wy1b3"
      }
    },
    {
      "cell_type": "code",
      "execution_count": null,
      "metadata": {
        "id": "wNfr-So9y1b3"
      },
      "outputs": [],
      "source": [
        "class Point:\n",
        "\n",
        "    def __init__(self, x_c, y_c):\n",
        "        self.x = x_c\n",
        "        self.y = y_c\n",
        "\n",
        "    def move(self, x_delta, y_delta):\n",
        "        self.x += x_delta\n",
        "        self.y += y_delta\n",
        "\n",
        "    def length(self, point):\n",
        "        return round(((point.x - self.x) ** 2 + (point.y - self.y) ** 2) ** 0.5, 2)"
      ]
    },
    {
      "cell_type": "markdown",
      "source": [
        "**C. Не нажимай красную кнопку!**"
      ],
      "metadata": {
        "id": "ag0C89zPy8GA"
      }
    },
    {
      "cell_type": "code",
      "source": [
        "class RedButton:\n",
        "    def __init__(self):\n",
        "        self.counter = 0\n",
        "\n",
        "    def count(self):\n",
        "        return self.counter\n",
        "\n",
        "    def click(self):\n",
        "        print(\"Тревога!\")\n",
        "        self.counter += 1"
      ],
      "metadata": {
        "id": "xF70_qHJy-gB"
      },
      "execution_count": null,
      "outputs": []
    },
    {
      "cell_type": "markdown",
      "source": [
        "**D. Работа не волк**"
      ],
      "metadata": {
        "id": "oZW4TEIUy_tW"
      }
    },
    {
      "cell_type": "code",
      "source": [
        "class Programmer:\n",
        "\n",
        "    def __init__(self, name, position=\"Junior\"):\n",
        "        self.name = name\n",
        "        self.position = position\n",
        "        self.money = 0\n",
        "        self.time_worked = 0\n",
        "        self.overrises = 0\n",
        "\n",
        "    def rise(self):\n",
        "        if self.position == \"Junior\":\n",
        "            self.position = \"Middle\"\n",
        "        elif self.position == \"Middle\":\n",
        "            self.position = \"Senior\"\n",
        "        elif self.position == \"Senior\":\n",
        "            self.overrises += 1\n",
        "\n",
        "    def work(self, time):\n",
        "        salary = {\n",
        "            \"Junior\": 10,\n",
        "            \"Middle\": 15,\n",
        "            \"Senior\": 20,\n",
        "        }\n",
        "        self.money += (salary[self.position] + self.overrises) * time\n",
        "        self.time_worked += time\n",
        "\n",
        "    def info(self):\n",
        "        return f'{self.name} {self.time_worked}ч. {self.money}тгр.'"
      ],
      "metadata": {
        "id": "nt7o9OgFzBmj"
      },
      "execution_count": null,
      "outputs": []
    },
    {
      "cell_type": "markdown",
      "source": [
        "**E. Классный прямоугольник**"
      ],
      "metadata": {
        "id": "JJovsVy5zCxZ"
      }
    },
    {
      "cell_type": "code",
      "source": [
        "class Rectangle:\n",
        "    def __init__(self, *coords):\n",
        "        self.coords = coords\n",
        "        self.a = abs(self.coords[0][0] - self.coords[1][0])\n",
        "        self.b = abs(self.coords[0][1] - self.coords[1][1])\n",
        "\n",
        "    def perimeter(self):\n",
        "        return round(2 * (self.a + self.b), 2)\n",
        "\n",
        "    def area(self):\n",
        "        return round(self.a * self.b, 2)"
      ],
      "metadata": {
        "id": "wPlY1Jq1zGpi"
      },
      "execution_count": null,
      "outputs": []
    },
    {
      "cell_type": "markdown",
      "source": [
        "**F. Классный прямоугольник 2.0**"
      ],
      "metadata": {
        "id": "CCg6m0ZIzHXd"
      }
    },
    {
      "cell_type": "code",
      "source": [
        "class Rectangle:\n",
        "    def __init__(self, *coords):\n",
        "        self.coords = coords\n",
        "        self.a = abs(self.coords[0][0] - self.coords[1][0])\n",
        "        self.b = abs(self.coords[0][1] - self.coords[1][1])\n",
        "\n",
        "        self.x_up_left = round(min(self.coords[0][0], self.coords[1][0]), 2)\n",
        "        self.y_up_left = round(max(self.coords[0][1], self.coords[1][1]), 2)\n",
        "\n",
        "        self.x_down_right = round(min(self.coords[0][0], self.coords[1][0]), 2)\n",
        "        self.y_down_right = round(max(self.coords[0][1], self.coords[1][1]), 2)\n",
        "\n",
        "    def perimeter(self):\n",
        "        return round(2 * (self.a + self.b), 2)\n",
        "\n",
        "    def area(self):\n",
        "        return round(self.a * self.b, 2)\n",
        "\n",
        "    def get_pos(self):\n",
        "        return (self.x_up_left, self.y_up_left)\n",
        "\n",
        "    def get_size(self):\n",
        "        return (round(self.a, 2), round(self.b, 2))\n",
        "\n",
        "    def move(self, dx, dy):\n",
        "        self.coords = (self.coords[0][0] + dx, self.coords[0][1] + dy), (self.coords[1][0] + dx, self.coords[1][1] + dy)\n",
        "        self.__init__(*self.coords)\n",
        "\n",
        "    def resize(self, width, height):\n",
        "        self.coords = self.get_pos(), (self.x_up_left + width, self.y_up_left - height)\n",
        "        self.__init__(*self.coords)"
      ],
      "metadata": {
        "id": "lrkoYmgUzLXj"
      },
      "execution_count": null,
      "outputs": []
    },
    {
      "cell_type": "markdown",
      "source": [
        "**G. Классный прямоугольник 3.0**"
      ],
      "metadata": {
        "id": "iwlpyACxzMcy"
      }
    },
    {
      "cell_type": "code",
      "source": [
        "class Point:\n",
        "    def __init__(self, x, y):\n",
        "        self.x = round(x, 2)\n",
        "        self.y = round(y, 2)\n",
        "\n",
        "    def round(self):\n",
        "        self.x = round(self.x, 2)\n",
        "        self.y = round(self.y, 2)\n",
        "        return self\n",
        "\n",
        "\n",
        "class Rectangle:\n",
        "    def __init__(self, p1, p2):\n",
        "        self.p = Point(min(p1[0], p2[0]), max(p1[1], p2[1]))\n",
        "        self.height = round(self.p.y - min(p1[1], p2[1]), 2)\n",
        "        self.width = round(max(p1[0], p2[0]) - self.p.x, 2)\n",
        "\n",
        "    def area(self):\n",
        "        return round(self.width * self.height, 2)\n",
        "\n",
        "    def perimeter(self):\n",
        "        return round((self.width + self.height) * 2, 2)\n",
        "\n",
        "    def get_size(self):\n",
        "        return self.width, self.height\n",
        "\n",
        "    def get_pos(self):\n",
        "        return self.p.x, self.p.y\n",
        "\n",
        "    def move(self, dx, dy):\n",
        "        self.p.x += dx\n",
        "        self.p.y += dy\n",
        "        self.p.round()\n",
        "\n",
        "    def resize(self, width, height):\n",
        "        self.width = round(width, 2)\n",
        "        self.height = round(height, 2)\n",
        "\n",
        "    def turn(self):\n",
        "        d = round((self.width - self.height) / 2, 2)\n",
        "        self.move(d, d)\n",
        "        self.height, self.width = self.width, self.height\n",
        "\n",
        "    def scale(self, factor):\n",
        "        dx = round((self.width * (factor - 1)), 2)\n",
        "        dy = round((self.height * (factor - 1)), 2)\n",
        "        self.move(-dx / 2, dy / 2)\n",
        "        self.resize(self.width * factor, self.height * factor)"
      ],
      "metadata": {
        "id": "pHsccVOtzO68"
      },
      "execution_count": null,
      "outputs": []
    },
    {
      "cell_type": "markdown",
      "source": [
        "**H. Шашки**"
      ],
      "metadata": {
        "id": "bLkUoGUFzVz0"
      }
    },
    {
      "cell_type": "code",
      "source": [
        "class Cell:\n",
        "\n",
        "    def __init__(self, coordinats):\n",
        "        self.coordinats = coordinats\n",
        "\n",
        "    def status(self):\n",
        "        return self.coordinats\n",
        "\n",
        "\n",
        "class Checkers:\n",
        "\n",
        "    def __init__(self):\n",
        "        self.board = {\n",
        "            'A': {'8': 'X', '7': 'B', '6': 'X', '5': 'X', '4': 'X', '3': 'W', '2': 'X', '1': 'W',},\n",
        "            'B': {'8': 'B', '7': 'X', '6': 'B', '5': 'X', '4': 'X', '3': 'X', '2': 'W', '1': 'X',},\n",
        "            'C': {'8': 'X', '7': 'B', '6': 'X', '5': 'X', '4': 'X', '3': 'W', '2': 'X', '1': 'W',},\n",
        "            'D': {'8': 'B', '7': 'X', '6': 'B', '5': 'X', '4': 'X', '3': 'X', '2': 'W', '1': 'X',},\n",
        "            'E': {'8': 'X', '7': 'B', '6': 'X', '5': 'X', '4': 'X', '3': 'W', '2': 'X', '1': 'W',},\n",
        "            'F': {'8': 'B', '7': 'X', '6': 'B', '5': 'X', '4': 'X', '3': 'X', '2': 'W', '1': 'X',},\n",
        "            'G': {'8': 'X', '7': 'B', '6': 'X', '5': 'X', '4': 'X', '3': 'W', '2': 'X', '1': 'W',},\n",
        "            'H': {'8': 'B', '7': 'X', '6': 'B', '5': 'X', '4': 'X', '3': 'X', '2': 'W', '1': 'X',},\n",
        "        }\n",
        "\n",
        "    def get_cell(self, p):\n",
        "        return Cell(self.board[p[0]][p[1]])\n",
        "\n",
        "    def move(self, f, t):\n",
        "        self.board[f[0]][f[1]], self.board[t[0]][t[1]] = self.board[t[0]][t[1]], self.board[f[0]][f[1]]"
      ],
      "metadata": {
        "id": "lEUE9E3jzWym"
      },
      "execution_count": null,
      "outputs": []
    },
    {
      "cell_type": "markdown",
      "source": [
        "**I. Очередь**"
      ],
      "metadata": {
        "id": "uiSVFb4hzcuy"
      }
    },
    {
      "cell_type": "code",
      "source": [
        "class Queue:\n",
        "    que = []\n",
        "\n",
        "    def push(self, item):\n",
        "        self.que.append(item)\n",
        "\n",
        "    def pop(self):\n",
        "        return self.que.pop(0)\n",
        "\n",
        "    def is_empty(self):\n",
        "        return self.que == []"
      ],
      "metadata": {
        "id": "yFdIVkFwzetJ"
      },
      "execution_count": null,
      "outputs": []
    },
    {
      "cell_type": "markdown",
      "source": [
        "**J. Стек**"
      ],
      "metadata": {
        "id": "lZY_WBuRziuZ"
      }
    },
    {
      "cell_type": "code",
      "source": [
        "class Stack:\n",
        "    st = []\n",
        "\n",
        "    def push(self, item):\n",
        "        self.st.append(item)\n",
        "\n",
        "    def pop(self):\n",
        "        return self.st.pop()\n",
        "\n",
        "    def is_empty(self):\n",
        "        return self.st == []"
      ],
      "metadata": {
        "id": "SEx2nipWzlns"
      },
      "execution_count": null,
      "outputs": []
    }
  ]
}