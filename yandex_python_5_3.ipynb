{
  "nbformat": 4,
  "nbformat_minor": 0,
  "metadata": {
    "colab": {
      "provenance": []
    },
    "kernelspec": {
      "name": "python3",
      "display_name": "Python 3"
    },
    "language_info": {
      "name": "python"
    }
  },
  "cells": [
    {
      "cell_type": "markdown",
      "source": [
        "**5.3.\n",
        "Модель исключений Python. Try, except, else, finally. Модули**\n",
        "\n"
      ],
      "metadata": {
        "id": "ERSllmecywNA"
      }
    },
    {
      "cell_type": "markdown",
      "source": [
        "**A. Обработка ошибок**"
      ],
      "metadata": {
        "id": "mOIZuNGIyxUL"
      }
    },
    {
      "cell_type": "code",
      "execution_count": null,
      "metadata": {
        "id": "jstd-5E7yrDd"
      },
      "outputs": [],
      "source": [
        "try:\n",
        "    func()\n",
        "except ValueError:\n",
        "    print(\"ValueError\")\n",
        "except TypeError:\n",
        "    print(\"TypeError\")\n",
        "except SystemError:\n",
        "    print(\"SystemError\")\n",
        "else:\n",
        "    print(\"No Exceptions\")"
      ]
    },
    {
      "cell_type": "markdown",
      "source": [
        "**B. Ломать — не строить**"
      ],
      "metadata": {
        "id": "8ITdxx-wy1b3"
      }
    },
    {
      "cell_type": "code",
      "execution_count": null,
      "metadata": {
        "id": "wNfr-So9y1b3"
      },
      "outputs": [],
      "source": [
        "try:\n",
        "    func(None, None)\n",
        "except Exception:\n",
        "    print('Ура! Ошибка!')"
      ]
    },
    {
      "cell_type": "markdown",
      "source": [
        "**C. Ломать — не строить 2**"
      ],
      "metadata": {
        "id": "ag0C89zPy8GA"
      }
    },
    {
      "cell_type": "code",
      "source": [
        "class Error:\n",
        "    def __init__(self):\n",
        "        raise Exception\n",
        "\n",
        "try:\n",
        "    func(Error())\n",
        "except Exception:\n",
        "    print('Ура! Ошибка!')"
      ],
      "metadata": {
        "id": "xF70_qHJy-gB"
      },
      "execution_count": null,
      "outputs": []
    },
    {
      "cell_type": "markdown",
      "source": [
        "**D. Контроль параметров**"
      ],
      "metadata": {
        "id": "oZW4TEIUy_tW"
      }
    },
    {
      "cell_type": "code",
      "source": [],
      "metadata": {
        "id": "nt7o9OgFzBmj"
      },
      "execution_count": null,
      "outputs": []
    },
    {
      "cell_type": "markdown",
      "source": [
        "**E. Слияние с проверкой**"
      ],
      "metadata": {
        "id": "JJovsVy5zCxZ"
      }
    },
    {
      "cell_type": "code",
      "source": [
        "def merge(a, b):\n",
        "    try:\n",
        "        iter_1, iter_2 = iter(a), iter(b)\n",
        "    except TypeError:\n",
        "        raise StopIteration\n",
        "    type_a = all(isinstance(i, type(a[0])) for i in a)\n",
        "    type_b = all(isinstance(i, type(a[0])) for i in b)\n",
        "    if not (type_a and type_b):\n",
        "        raise TypeError\n",
        "    if list(a) != sorted(a) or list(b) != sorted(b):\n",
        "        raise ValueError\n",
        "    res = list(a) + list(b)\n",
        "    res = tuple(sorted(res))\n",
        "    return res"
      ],
      "metadata": {
        "id": "wPlY1Jq1zGpi"
      },
      "execution_count": null,
      "outputs": []
    },
    {
      "cell_type": "markdown",
      "source": [
        "**F. Корень зла 2**"
      ],
      "metadata": {
        "id": "CCg6m0ZIzHXd"
      }
    },
    {
      "cell_type": "code",
      "source": [
        "def only_positive_even_sum(a, b):\n",
        "    if not (isinstance(a, int) and isinstance(b, int)):\n",
        "        raise TypeError\n",
        "    if not (a > 0 and a % 2 == 0) or not (b > 0 and b % 2 == 0):\n",
        "        raise ValueError\n",
        "    return a + b"
      ],
      "metadata": {
        "id": "lrkoYmgUzLXj"
      },
      "execution_count": null,
      "outputs": []
    },
    {
      "cell_type": "markdown",
      "source": [
        "**G. Валидация имени**"
      ],
      "metadata": {
        "id": "iwlpyACxzMcy"
      }
    },
    {
      "cell_type": "code",
      "source": [
        "class CapitalError(Exception):\n",
        "    pass\n",
        "\n",
        "\n",
        "class CyrillicError(Exception):\n",
        "    pass\n",
        "\n",
        "\n",
        "def name_validation(user):\n",
        "    if not isinstance(user, str):\n",
        "        raise TypeError\n",
        "    abc = 'абвгдеёжзийклмнопрстуфхцчшщьыъэюя'\n",
        "    if sum(i.lower() not in abc for i in user):\n",
        "        raise CyrillicError\n",
        "    if user != user.lower().capitalize():\n",
        "        raise CapitalError\n",
        "\n",
        "    return user"
      ],
      "metadata": {
        "id": "pHsccVOtzO68"
      },
      "execution_count": null,
      "outputs": []
    },
    {
      "cell_type": "markdown",
      "source": [
        "**H. Валидация имени пользователя**"
      ],
      "metadata": {
        "id": "bLkUoGUFzVz0"
      }
    },
    {
      "cell_type": "code",
      "source": [
        "class StartsWithDigitError(Exception):\n",
        "    pass\n",
        "\n",
        "\n",
        "class BadCharacterError(Exception):\n",
        "    pass\n",
        "\n",
        "\n",
        "def username_validation(user):\n",
        "    if not isinstance(user, str):\n",
        "        raise TypeError\n",
        "    abc = '0123456789_abcdefghijklmnopqrstuvwxyz'\n",
        "    if sum((i.lower() not in abc) for i in user):\n",
        "        raise BadCharacterError\n",
        "    if user[0].isdigit():\n",
        "        raise StartsWithDigitError\n",
        "    return user"
      ],
      "metadata": {
        "id": "lEUE9E3jzWym"
      },
      "execution_count": null,
      "outputs": []
    },
    {
      "cell_type": "markdown",
      "source": [
        "**I. Валидация пользователя**"
      ],
      "metadata": {
        "id": "uiSVFb4hzcuy"
      }
    },
    {
      "cell_type": "code",
      "source": [
        "class StartsWithDigitError(Exception):\n",
        "    pass\n",
        "\n",
        "\n",
        "class BadCharacterError(Exception):\n",
        "    pass\n",
        "\n",
        "\n",
        "class CapitalError(Exception):\n",
        "    pass\n",
        "\n",
        "\n",
        "class CyrillicError(Exception):\n",
        "    pass\n",
        "\n",
        "\n",
        "def name_validation(user):\n",
        "    if not isinstance(user, str):\n",
        "        raise TypeError\n",
        "    abc = 'абвгдеёжзийклмнопрстуфхцчшщьыъэюя'\n",
        "    if sum(i.lower() not in abc for i in user) != 0:\n",
        "        raise CyrillicError\n",
        "    if user != (user.lower()).capitalize():\n",
        "        raise CapitalError\n",
        "    return user\n",
        "\n",
        "\n",
        "def username_validation(user):\n",
        "    if not isinstance(user, str):\n",
        "        raise TypeError\n",
        "    abc = '0123456789_abcdefghijklmnopqrstuvwxyz'\n",
        "    if sum((i.lower() not in abc) for i in user):\n",
        "        raise BadCharacterError\n",
        "    if user[0].isdigit():\n",
        "        raise StartsWithDigitError\n",
        "    return user\n",
        "\n",
        "\n",
        "def user_validation(**kwargs):\n",
        "    labels = [i for i in kwargs]\n",
        "    if len(kwargs) != 3 or labels != ['last_name', 'first_name', 'username']:\n",
        "        raise KeyError\n",
        "    if any(not isinstance(i, str) for i in kwargs.values()):\n",
        "        raise TypeError\n",
        "    kwargs['last_name'] = name_validation(kwargs['last_name'])\n",
        "    kwargs['first_name'] = name_validation(kwargs['first_name'])\n",
        "    kwargs['username'] = username_validation(kwargs['username'])\n",
        "    return kwargs"
      ],
      "metadata": {
        "id": "yFdIVkFwzetJ"
      },
      "execution_count": null,
      "outputs": []
    },
    {
      "cell_type": "markdown",
      "source": [
        "**J. Валидация пароля**"
      ],
      "metadata": {
        "id": "lZY_WBuRziuZ"
      }
    },
    {
      "cell_type": "code",
      "source": [
        "import hashlib\n",
        "\n",
        "\n",
        "class NeedCharError(Exception):\n",
        "    pass\n",
        "\n",
        "\n",
        "class MinLengthError(Exception):\n",
        "    pass\n",
        "\n",
        "\n",
        "class PossibleCharError(Exception):\n",
        "    pass\n",
        "\n",
        "\n",
        "def password_validation(user_password,\n",
        "                        min_length=8,\n",
        "                        possible_chars='ABCDEFGHIJKLMNOPQRSTUVWXYZabcdefghijklmnopqrstuvwxyz0123456789',\n",
        "                        at_least_one=str.isdigit):\n",
        "    if not isinstance(user_password, str):\n",
        "        raise TypeError\n",
        "    if len(user_password) < min_length:\n",
        "        raise MinLengthError\n",
        "    if any(i not in possible_chars for i in user_password):\n",
        "        raise PossibleCharError\n",
        "    if not any(map(at_least_one, user_password)):\n",
        "        raise NeedCharError\n",
        "    encode = user_password.encode()\n",
        "    return hashlib.sha256(encode).hexdigest()"
      ],
      "metadata": {
        "id": "SEx2nipWzlns"
      },
      "execution_count": null,
      "outputs": []
    }
  ]
}