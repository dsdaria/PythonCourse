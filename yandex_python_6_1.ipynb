{
  "nbformat": 4,
  "nbformat_minor": 0,
  "metadata": {
    "colab": {
      "provenance": []
    },
    "kernelspec": {
      "name": "python3",
      "display_name": "Python 3"
    },
    "language_info": {
      "name": "python"
    }
  },
  "cells": [
    {
      "cell_type": "markdown",
      "source": [
        "**6.1.\n",
        "Модули math и numpy**"
      ],
      "metadata": {
        "id": "ERSllmecywNA"
      }
    },
    {
      "cell_type": "markdown",
      "source": [
        "**A. Математика — круто, но это не точно**"
      ],
      "metadata": {
        "id": "mOIZuNGIyxUL"
      }
    },
    {
      "cell_type": "code",
      "execution_count": null,
      "metadata": {
        "id": "jstd-5E7yrDd"
      },
      "outputs": [],
      "source": [
        "import math\n",
        "\n",
        "x = float(input())\n",
        "term1 = math.log(pow(x, 3 / 16), 32)\n",
        "term2 = pow(x, math.cos((math.pi * x) / (2 * math.e)))\n",
        "term3 = pow(math.sin(x / math.pi), 2)\n",
        "print(term1 + term2 - term3)"
      ]
    },
    {
      "cell_type": "markdown",
      "source": [
        "**B. Потоковый НОД**"
      ],
      "metadata": {
        "id": "8ITdxx-wy1b3"
      }
    },
    {
      "cell_type": "code",
      "execution_count": null,
      "metadata": {
        "id": "wNfr-So9y1b3"
      },
      "outputs": [],
      "source": [
        "from sys import stdin\n",
        "from math import gcd\n",
        "\n",
        "for num in stdin:\n",
        "    print(gcd(*map(int, num.split())))"
      ]
    },
    {
      "cell_type": "markdown",
      "source": [
        "**C. Есть варианты?**"
      ],
      "metadata": {
        "id": "ag0C89zPy8GA"
      }
    },
    {
      "cell_type": "code",
      "source": [
        "from math import comb\n",
        "\n",
        "n, m = map(int, input().split())\n",
        "print(comb(n, m) * m // n, comb(n, m))"
      ],
      "metadata": {
        "id": "xF70_qHJy-gB"
      },
      "execution_count": null,
      "outputs": []
    },
    {
      "cell_type": "markdown",
      "source": [
        "**D. Среднее не арифметическое**"
      ],
      "metadata": {
        "id": "oZW4TEIUy_tW"
      }
    },
    {
      "cell_type": "code",
      "source": [
        "import numpy as np\n",
        "\n",
        "\n",
        "inp = np.array(list(map(float, input().split())))\n",
        "print(pow(inp.prod(), pow(len(inp), -1)))"
      ],
      "metadata": {
        "id": "nt7o9OgFzBmj"
      },
      "execution_count": null,
      "outputs": []
    },
    {
      "cell_type": "markdown",
      "source": [
        "**E. Шаг навстречу**"
      ],
      "metadata": {
        "id": "JJovsVy5zCxZ"
      }
    },
    {
      "cell_type": "code",
      "source": [
        "import math\n",
        "\n",
        "x_d, y_d = map(float, input().split())\n",
        "r_p, pol_p = map(float, input().split())\n",
        "\n",
        "x_p = r_p * math.cos(pol_p)\n",
        "y_p = r_p * math.sin(pol_p)\n",
        "\n",
        "print(math.dist((x_d, y_d), (x_p, y_p)))"
      ],
      "metadata": {
        "id": "wPlY1Jq1zGpi"
      },
      "execution_count": null,
      "outputs": []
    },
    {
      "cell_type": "markdown",
      "source": [
        "**F. Матрица умножения**"
      ],
      "metadata": {
        "id": "CCg6m0ZIzHXd"
      }
    },
    {
      "cell_type": "code",
      "source": [
        "import numpy as np\n",
        "from itertools import product\n",
        "\n",
        "\n",
        "def multiplication_matrix(n):\n",
        "    matrix = np.arange(1, n + 1)\n",
        "    matr = np.array(([int(i) * int(j) for i, j in product(matrix, matrix)]))\n",
        "    return matr.reshape(n, n)"
      ],
      "metadata": {
        "id": "lrkoYmgUzLXj"
      },
      "execution_count": null,
      "outputs": []
    },
    {
      "cell_type": "markdown",
      "source": [
        "**G. Шахматная подготовка**"
      ],
      "metadata": {
        "id": "iwlpyACxzMcy"
      }
    },
    {
      "cell_type": "code",
      "source": [
        "import numpy as np\n",
        "\n",
        "\n",
        "def make_board(size):\n",
        "    chess = np.ones([size, size], dtype=\"int8\")\n",
        "    for i in range(len(chess)):\n",
        "        for j in range(len(chess)):\n",
        "            if ((i % 2 == 1) and (j % 2 == 0)) or ((i % 2 == 0) and (j % 2 == 1)):\n",
        "                chess[i][j] = 0\n",
        "    return chess"
      ],
      "metadata": {
        "id": "pHsccVOtzO68"
      },
      "execution_count": null,
      "outputs": []
    },
    {
      "cell_type": "markdown",
      "source": [
        "**H. Числовая змейка 3.0**"
      ],
      "metadata": {
        "id": "bLkUoGUFzVz0"
      }
    },
    {
      "cell_type": "code",
      "source": [
        "import numpy as np\n",
        "\n",
        "\n",
        "def snake(m, n, direction='H'):\n",
        "    matrix = np.zeros((n, m), dtype=np.int16)\n",
        "    number = 1\n",
        "\n",
        "    if direction == 'H':\n",
        "        for i in range(n):\n",
        "            if i % 2:\n",
        "                matrix[i] = np.arange(number + m - 1, number - 1, -1)\n",
        "            else:\n",
        "                matrix[i] = np.arange(number, number + m)\n",
        "\n",
        "            number += m\n",
        "\n",
        "    elif direction == 'V':\n",
        "        for j in range(m):\n",
        "            if j % 2:\n",
        "                matrix[:, j] = np.arange(number + n - 1, number - 1, -1)\n",
        "            else:\n",
        "                matrix[:, j] = np.arange(number, number + n)\n",
        "\n",
        "            number += n\n",
        "\n",
        "    return matrix"
      ],
      "metadata": {
        "id": "lEUE9E3jzWym"
      },
      "execution_count": null,
      "outputs": []
    },
    {
      "cell_type": "markdown",
      "source": [
        "**I. Вращение**"
      ],
      "metadata": {
        "id": "uiSVFb4hzcuy"
      }
    },
    {
      "cell_type": "code",
      "source": [
        "import numpy as np\n",
        "\n",
        "\n",
        "def rotate(matrix, angle):\n",
        "    return np.rot90(matrix, (360 - angle) // 90)"
      ],
      "metadata": {
        "id": "yFdIVkFwzetJ"
      },
      "execution_count": null,
      "outputs": []
    },
    {
      "cell_type": "markdown",
      "source": [
        "**J. Лесенка**"
      ],
      "metadata": {
        "id": "lZY_WBuRziuZ"
      }
    },
    {
      "cell_type": "code",
      "source": [
        "import numpy as np\n",
        "\n",
        "\n",
        "def stairs(vector):\n",
        "    n = len(vector)\n",
        "    matrix = np.zeros((n, n), dtype=int)\n",
        "    for i in range(n):\n",
        "        matrix[i] = np.roll(vector, i)\n",
        "    return matrix"
      ],
      "metadata": {
        "id": "SEx2nipWzlns"
      },
      "execution_count": null,
      "outputs": []
    }
  ]
}