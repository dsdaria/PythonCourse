{
  "nbformat": 4,
  "nbformat_minor": 0,
  "metadata": {
    "colab": {
      "provenance": []
    },
    "kernelspec": {
      "name": "python3",
      "display_name": "Python 3"
    },
    "language_info": {
      "name": "python"
    }
  },
  "cells": [
    {
      "cell_type": "markdown",
      "source": [
        "**6.2.\n",
        "Модуль pandas**"
      ],
      "metadata": {
        "id": "ERSllmecywNA"
      }
    },
    {
      "cell_type": "markdown",
      "source": [
        "**A. Длины всех слов - 2**"
      ],
      "metadata": {
        "id": "mOIZuNGIyxUL"
      }
    },
    {
      "cell_type": "code",
      "execution_count": null,
      "metadata": {
        "id": "jstd-5E7yrDd"
      },
      "outputs": [],
      "source": [
        "import pandas as pd\n",
        "\n",
        "\n",
        "def length_stats(text):\n",
        "    for i in text:\n",
        "        if not i.isalpha():\n",
        "            text = text.replace(i, \" \")\n",
        "    lens = []\n",
        "    text = sorted(list(set((text.lower()).split())))\n",
        "\n",
        "    return pd.Series([len(i) for i in text], index=[text])"
      ]
    },
    {
      "cell_type": "markdown",
      "source": [
        "**B. Длины всех слов по чётности**"
      ],
      "metadata": {
        "id": "8ITdxx-wy1b3"
      }
    },
    {
      "cell_type": "code",
      "execution_count": null,
      "metadata": {
        "id": "wNfr-So9y1b3"
      },
      "outputs": [],
      "source": [
        "import numpy as np\n",
        "import pandas as pd\n",
        "\n",
        "\n",
        "def length_stats(text):\n",
        "    data = []\n",
        "\n",
        "    punc = '''!()-[]{};:'\"\\,<>./?@#$%^&*_~'''\n",
        "    nums = '0123456789'\n",
        "    odd, even = [], []\n",
        "\n",
        "    for i in text.split():\n",
        "        for ele in i:\n",
        "            if ele in punc:\n",
        "                i = i.replace(ele, \"\")\n",
        "\n",
        "        if isinstance(i, str) and i not in nums:\n",
        "            i = i.lower()\n",
        "            if i not in data:\n",
        "                data.append(i)\n",
        "                if len(i) % 2 == 0:\n",
        "                    even.append(i)\n",
        "                else:\n",
        "                    odd.append(i)\n",
        "\n",
        "    even = sorted(even)\n",
        "    odd = sorted(odd)\n",
        "    even_s = pd.Series(map(len, even), index=even, dtype='int64')\n",
        "    odd_s = pd.Series(map(len, odd), index=odd, dtype='int64')\n",
        "\n",
        "    return odd_s, even_s"
      ]
    },
    {
      "cell_type": "markdown",
      "source": [
        "**C. Чек - 2**"
      ],
      "metadata": {
        "id": "ag0C89zPy8GA"
      }
    },
    {
      "cell_type": "code",
      "source": [
        "import pandas as pd\n",
        "\n",
        "\n",
        "def cheque(price_list, **kwargs):\n",
        "    product_lst = sorted(kwargs)\n",
        "    products = {\n",
        "        'product': product_lst,\n",
        "        'price': [price_list[i] for i in product_lst],\n",
        "        'number': [kwargs[i] for i in product_lst]\n",
        "    }\n",
        "    products['cost'] = [products['number'][i] * price_list[j] for i, j in enumerate(product_lst)]\n",
        "\n",
        "    return pd.DataFrame(products)"
      ],
      "metadata": {
        "id": "xF70_qHJy-gB"
      },
      "execution_count": null,
      "outputs": []
    },
    {
      "cell_type": "markdown",
      "source": [
        "**D. Акция**"
      ],
      "metadata": {
        "id": "oZW4TEIUy_tW"
      }
    },
    {
      "cell_type": "code",
      "source": [
        "import pandas as pd\n",
        "\n",
        "\n",
        "def cheque(price_list, **kwargs):\n",
        "    product_lst = sorted(kwargs)\n",
        "    products = {\n",
        "        'product': product_lst,\n",
        "        'price': [price_list[i] for i in product_lst],\n",
        "        'number': [kwargs[i] for i in product_lst]\n",
        "    }\n",
        "    products['cost'] = [products['number'][i] * price_list[j] for i, j in enumerate(product_lst)]\n",
        "\n",
        "    return pd.DataFrame(products)\n",
        "\n",
        "\n",
        "def discount(inp):\n",
        "    lst = inp.copy()\n",
        "    for index, row in lst.iterrows():\n",
        "        flag = (lst.loc[:, 'number'][index] > 2)\n",
        "        lst.loc[index, 'cost'] /= 1 + flag\n",
        "\n",
        "    return lst"
      ],
      "metadata": {
        "id": "nt7o9OgFzBmj"
      },
      "execution_count": null,
      "outputs": []
    },
    {
      "cell_type": "markdown",
      "source": [
        "**E. Длинные слова**"
      ],
      "metadata": {
        "id": "JJovsVy5zCxZ"
      }
    },
    {
      "cell_type": "code",
      "source": [
        "import pandas as pd\n",
        "\n",
        "\n",
        "def get_long(data, min_length=5):\n",
        "    return data[data >= min_length]"
      ],
      "metadata": {
        "id": "wPlY1Jq1zGpi"
      },
      "execution_count": null,
      "outputs": []
    },
    {
      "cell_type": "markdown",
      "source": [
        "**F. Отчёт успеваемости**"
      ],
      "metadata": {
        "id": "CCg6m0ZIzHXd"
      }
    },
    {
      "cell_type": "code",
      "source": [
        "def best(journal):\n",
        "    best_res = journal.copy()\n",
        "    return best_res[(best_res['maths'] > 3) & (best_res['physics'] > 3) & (best_res['computer science'] > 3)]"
      ],
      "metadata": {
        "id": "lrkoYmgUzLXj"
      },
      "execution_count": null,
      "outputs": []
    },
    {
      "cell_type": "markdown",
      "source": [
        "**G. Отчёт неуспеваемости**"
      ],
      "metadata": {
        "id": "iwlpyACxzMcy"
      }
    },
    {
      "cell_type": "code",
      "source": [
        "def need_to_work_better(journal):\n",
        "    best_res = journal.copy()\n",
        "    return best_res[(best_res['maths'] == 2) | (best_res['physics'] == 2) | (best_res['computer science'] == 2)]"
      ],
      "metadata": {
        "id": "pHsccVOtzO68"
      },
      "execution_count": null,
      "outputs": []
    },
    {
      "cell_type": "markdown",
      "source": [
        "**H. Обновление журнала**"
      ],
      "metadata": {
        "id": "bLkUoGUFzVz0"
      }
    },
    {
      "cell_type": "code",
      "source": [
        "def update(journal):\n",
        "    jour_copy = journal.copy()\n",
        "    for i in range(len(jour_copy.loc[:, 'name'])):\n",
        "        jour_copy.loc[:, 'average'] = (jour_copy['maths'] + jour_copy['physics'] + jour_copy['computer science']) / 3\n",
        "    return jour_copy.sort_values(by=['average', 'name'], ascending=(False, True))"
      ],
      "metadata": {
        "id": "lEUE9E3jzWym"
      },
      "execution_count": null,
      "outputs": []
    },
    {
      "cell_type": "markdown",
      "source": [
        "**I. Бесконечный морской бой**"
      ],
      "metadata": {
        "id": "uiSVFb4hzcuy"
      }
    },
    {
      "cell_type": "code",
      "source": [
        "import pandas as pd\n",
        "\n",
        "\n",
        "data = pd.read_csv('data.csv')\n",
        "coords1 = [int(i) for i in input().split()]\n",
        "coords2 = [int(i) for i in input().split()]\n",
        "a, b = coords1[0], coords1[1]\n",
        "c, d = coords2[0], coords2[1]\n",
        "\n",
        "print(data[(a <= data['x']) & (data['x'] <= c) & (d <= data['y']) & (data['y'] <= b)])"
      ],
      "metadata": {
        "id": "yFdIVkFwzetJ"
      },
      "execution_count": null,
      "outputs": []
    },
    {
      "cell_type": "markdown",
      "source": [
        "**J. Экстремум функции**"
      ],
      "metadata": {
        "id": "lZY_WBuRziuZ"
      }
    },
    {
      "cell_type": "code",
      "source": [
        "import numpy as np\n",
        "import pandas as pd\n",
        "\n",
        "\n",
        "def values(f, start, end, step):\n",
        "    points = np.arange(start, end + step, step)\n",
        "    return pd.Series(map(f, points), index=points, dtype='float64')\n",
        "\n",
        "\n",
        "def max_extremum(data):\n",
        "    return max(data[data == max(data)].index)\n",
        "\n",
        "\n",
        "def min_extremum(data):\n",
        "    return min(data[data == min(data)].index)"
      ],
      "metadata": {
        "id": "SEx2nipWzlns"
      },
      "execution_count": null,
      "outputs": []
    }
  ]
}