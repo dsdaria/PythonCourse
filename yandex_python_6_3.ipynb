{
  "nbformat": 4,
  "nbformat_minor": 0,
  "metadata": {
    "colab": {
      "provenance": []
    },
    "kernelspec": {
      "name": "python3",
      "display_name": "Python 3"
    },
    "language_info": {
      "name": "python"
    }
  },
  "cells": [
    {
      "cell_type": "markdown",
      "source": [
        "**6.3.\n",
        "Модуль requests**"
      ],
      "metadata": {
        "id": "ERSllmecywNA"
      }
    },
    {
      "cell_type": "markdown",
      "source": [
        "**A. Проверка системы**"
      ],
      "metadata": {
        "id": "mOIZuNGIyxUL"
      }
    },
    {
      "cell_type": "code",
      "execution_count": null,
      "metadata": {
        "id": "jstd-5E7yrDd"
      },
      "outputs": [],
      "source": [
        "from requests import get\n",
        "\n",
        "print(get('http://127.0.0.1:5000').text)"
      ]
    },
    {
      "cell_type": "markdown",
      "source": [
        "**B. Суммирование ответов**"
      ],
      "metadata": {
        "id": "8ITdxx-wy1b3"
      }
    },
    {
      "cell_type": "code",
      "execution_count": null,
      "metadata": {
        "id": "wNfr-So9y1b3"
      },
      "outputs": [],
      "source": [
        "from requests import get\n",
        "\n",
        "name = 'http://' + input()\n",
        "total = 0\n",
        "while (inp := int(get(name).text)) != 0:\n",
        "    total += inp\n",
        "\n",
        "print(total)"
      ]
    },
    {
      "cell_type": "markdown",
      "source": [
        "**C. Суммирование ответов 2**"
      ],
      "metadata": {
        "id": "ag0C89zPy8GA"
      }
    },
    {
      "cell_type": "code",
      "source": [
        "from requests import get\n",
        "\n",
        "\n",
        "data = get('http://' + input()).json()\n",
        "\n",
        "result = sum([i for i in data if isinstance(i, int)])\n",
        "print(result)"
      ],
      "metadata": {
        "id": "xF70_qHJy-gB"
      },
      "execution_count": null,
      "outputs": []
    },
    {
      "cell_type": "markdown",
      "source": [
        "**D. Конкретное значение**"
      ],
      "metadata": {
        "id": "oZW4TEIUy_tW"
      }
    },
    {
      "cell_type": "code",
      "source": [
        "from requests import get\n",
        "\n",
        "\n",
        "data = get('http://' + input()).json()\n",
        "print(data.get(input(), 'No data'))"
      ],
      "metadata": {
        "id": "nt7o9OgFzBmj"
      },
      "execution_count": null,
      "outputs": []
    },
    {
      "cell_type": "markdown",
      "source": [
        "**E. Суммирование ответов 3**"
      ],
      "metadata": {
        "id": "JJovsVy5zCxZ"
      }
    },
    {
      "cell_type": "code",
      "source": [
        "from requests import get\n",
        "from sys import stdin\n",
        "\n",
        "address = 'http://' + input()\n",
        "ways = [i.strip() for i in stdin]\n",
        "summ = 0\n",
        "for way in ways:\n",
        "    summ += sum(get(address + way).json())\n",
        "print(summ)"
      ],
      "metadata": {
        "id": "wPlY1Jq1zGpi"
      },
      "execution_count": null,
      "outputs": []
    },
    {
      "cell_type": "markdown",
      "source": [
        "**F. Список пользователей**"
      ],
      "metadata": {
        "id": "CCg6m0ZIzHXd"
      }
    },
    {
      "cell_type": "code",
      "source": [
        "from requests import get\n",
        "\n",
        "address = 'http://' + input() + '/users'\n",
        "data = get(address).json()\n",
        "\n",
        "people = []\n",
        "for i in data:\n",
        "    people.append(i['last_name'] + ' ' + i['first_name'])\n",
        "\n",
        "print(\"\\n\".join(sorted(people)))"
      ],
      "metadata": {
        "id": "lrkoYmgUzLXj"
      },
      "execution_count": null,
      "outputs": []
    },
    {
      "cell_type": "markdown",
      "source": [
        "**G. Рассылка сообщений**"
      ],
      "metadata": {
        "id": "iwlpyACxzMcy"
      }
    },
    {
      "cell_type": "code",
      "source": [
        "from requests import get\n",
        "from sys import stdin\n",
        "\n",
        "info = {}\n",
        "address = 'http://' + input() + '/users/' + input()\n",
        "letter = ''.join(i for i in stdin)\n",
        "\n",
        "try:\n",
        "    info = get(address).json()\n",
        "\n",
        "except ValueError:\n",
        "    print('Пользователь не найден')\n",
        "\n",
        "if info:\n",
        "    for i in info:\n",
        "        letter = letter.replace('{' + i + '}', str(info[i]))\n",
        "    print(letter)"
      ],
      "metadata": {
        "id": "pHsccVOtzO68"
      },
      "execution_count": null,
      "outputs": []
    },
    {
      "cell_type": "markdown",
      "source": [
        "**H. Регистрация нового пользователя**"
      ],
      "metadata": {
        "id": "bLkUoGUFzVz0"
      }
    },
    {
      "cell_type": "code",
      "source": [
        "from requests import post\n",
        "from json import dumps\n",
        "\n",
        "\n",
        "address = 'http://' + input() + '/users'\n",
        "\n",
        "user_info = {}\n",
        "user_info[\"username\"] = input()\n",
        "user_info[\"last_name\"] = input()\n",
        "user_info[\"first_name\"] = input()\n",
        "user_info[\"email\"] = input()\n",
        "\n",
        "post(address, data=dumps(user_info))"
      ],
      "metadata": {
        "id": "lEUE9E3jzWym"
      },
      "execution_count": null,
      "outputs": []
    },
    {
      "cell_type": "markdown",
      "source": [
        "**I. Изменение данных**"
      ],
      "metadata": {
        "id": "uiSVFb4hzcuy"
      }
    },
    {
      "cell_type": "code",
      "source": [
        "from requests import put\n",
        "from sys import stdin\n",
        "from json import dumps\n",
        "\n",
        "\n",
        "address = 'http://' + input() + '/users/' + input()\n",
        "\n",
        "change_data = [i.strip().split('=') for i in stdin]\n",
        "new_data = {}\n",
        "\n",
        "for item in change_data:\n",
        "    new_data[item[0]] = item[1]\n",
        "\n",
        "put(address, data=dumps(new_data))"
      ],
      "metadata": {
        "id": "yFdIVkFwzetJ"
      },
      "execution_count": null,
      "outputs": []
    },
    {
      "cell_type": "markdown",
      "source": [
        "**J. Удаление данных**"
      ],
      "metadata": {
        "id": "lZY_WBuRziuZ"
      }
    },
    {
      "cell_type": "code",
      "source": [
        "from requests import delete\n",
        "\n",
        "delete('http://' + input() + '/users/' + input())"
      ],
      "metadata": {
        "id": "SEx2nipWzlns"
      },
      "execution_count": null,
      "outputs": []
    }
  ]
}